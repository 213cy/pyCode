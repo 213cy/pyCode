{
 "cells": [
  {
   "cell_type": "code",
   "execution_count": 1,
   "id": "cad9100c",
   "metadata": {},
   "outputs": [
    {
     "data": {
      "text/plain": [
       "'0002000'"
      ]
     },
     "execution_count": 1,
     "metadata": {},
     "output_type": "execute_result"
    }
   ],
   "source": [
    "# 比较字符串\n",
    "''.join( str(ord(k)-ord(j)) for k , j in zip( 'abcdefg','abcbefg' ) )"
   ]
  },
  {
   "cell_type": "code",
   "execution_count": 2,
   "id": "f28195f1",
   "metadata": {},
   "outputs": [
    {
     "name": "stdout",
     "output_type": "stream",
     "text": [
      "=========>456\n",
      "456\n"
     ]
    }
   ],
   "source": [
    "# 输入函数\n",
    "a=input('=========>')\n",
    "print(a)"
   ]
  },
  {
   "cell_type": "code",
   "execution_count": 3,
   "id": "77274ff5",
   "metadata": {},
   "outputs": [],
   "source": [
    "import multiprocessing\n",
    "import winsound"
   ]
  },
  {
   "cell_type": "code",
   "execution_count": 4,
   "id": "19ee8bed",
   "metadata": {},
   "outputs": [
    {
     "name": "stdout",
     "output_type": "stream",
     "text": [
      "2222   2 [2, 2, 2] [2, 2] 22.0\n",
      "3333   2 [2, 2, 2] [2, 2] 22.0\n"
     ]
    }
   ],
   "source": [
    "a,b,c,d=2,[2,2,2],[2,2],multiprocessing.Value('d',22)\n",
    "def bbb(a,b,c,d):\n",
    "##    global a,b,c,d\n",
    "    a,b[1],c=1,1,[1,1]\n",
    "    d.value=11\n",
    "\n",
    "    winsound.Beep(200,1000)\n",
    "    print('1111  ',a,b,c,d.value)\n",
    "\n",
    "\n",
    "if __name__=='__main__':\n",
    "    p1 = multiprocessing.Process(target=bbb,args=(a,b,c,d))\n",
    "    p1.start()\n",
    "    p1.join()\n",
    "    print('2222  ',a,b,c,d.value)\n",
    "\n",
    "print('3333  ',a,b,c,d.value)"
   ]
  }
 ],
 "metadata": {
  "kernelspec": {
   "display_name": "Python 3",
   "language": "python",
   "name": "python3"
  },
  "language_info": {
   "codemirror_mode": {
    "name": "ipython",
    "version": 3
   },
   "file_extension": ".py",
   "mimetype": "text/x-python",
   "name": "python",
   "nbconvert_exporter": "python",
   "pygments_lexer": "ipython3",
   "version": "3.8.8"
  }
 },
 "nbformat": 4,
 "nbformat_minor": 5
}
