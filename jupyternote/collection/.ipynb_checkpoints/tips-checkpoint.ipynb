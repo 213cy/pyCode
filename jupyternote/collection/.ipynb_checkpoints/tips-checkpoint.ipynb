{
 "cells": [
  {
   "cell_type": "code",
   "execution_count": 17,
   "id": "887c7801",
   "metadata": {},
   "outputs": [
    {
     "name": "stdout",
     "output_type": "stream",
     "text": [
      "1=and={b}\n",
      "aaabbbcccddd\n",
      "aaabbbcccddd\n"
     ]
    }
   ],
   "source": [
    "# multiline string \n",
    "\n",
    "a,b=1,2\n",
    "c= (f\"{a}\"\n",
    "    \"=and=\"\n",
    "\"{b}\")\n",
    "print(c)\n",
    "d=('aaa'  'bbb'\n",
    "   'ccc''ddd')\n",
    "print(d)\n",
    "d='aaa'  'bbb'\\\n",
    "   'ccc''ddd'\n",
    "print(d)\n",
    "        "
   ]
  },
  {
   "cell_type": "code",
   "execution_count": 14,
   "id": "12427805",
   "metadata": {},
   "outputs": [
    {
     "name": "stdout",
     "output_type": "stream",
     "text": [
      "['a', 's', 'd', 'f', ' ', 's', 'a', 'f', 'd', ' ', 'a', 'f', 'd']\n"
     ]
    }
   ],
   "source": [
    "words=['ab',None,'','cd']\n",
    "# words='asdf safd afd'\n",
    "a = filter(None, words)\n",
    "print(list(a))"
   ]
  },
  {
   "cell_type": "code",
   "execution_count": 3,
   "id": "d7e76a16",
   "metadata": {},
   "outputs": [
    {
     "name": "stdout",
     "output_type": "stream",
     "text": [
      "Tue May  2 02:29:36 2023\n"
     ]
    }
   ],
   "source": [
    "from time import asctime,localtime,time\n",
    "print(asctime(localtime(time())))"
   ]
  },
  {
   "cell_type": "code",
   "execution_count": 6,
   "id": "468aa27e",
   "metadata": {},
   "outputs": [
    {
     "name": "stdout",
     "output_type": "stream",
     "text": [
      "{0: None, 1: None, 2: None}\n",
      "{0: 3, 1: 4, 2: 5}\n",
      "{3: 0, 4: 1, 5: 2}\n"
     ]
    }
   ],
   "source": [
    "# 简单的字典生成方法\n",
    "a=dict.fromkeys(range(3))\n",
    "print(a)\n",
    "b=dict( k for k in enumerate(range(3,6)) )\n",
    "print(b)\n",
    "# reverse\n",
    "print(dict(zip(b.values(),b.keys())))"
   ]
  }
 ],
 "metadata": {
  "kernelspec": {
   "display_name": "Python 3",
   "language": "python",
   "name": "python3"
  },
  "language_info": {
   "codemirror_mode": {
    "name": "ipython",
    "version": 3
   },
   "file_extension": ".py",
   "mimetype": "text/x-python",
   "name": "python",
   "nbconvert_exporter": "python",
   "pygments_lexer": "ipython3",
   "version": "3.8.8"
  }
 },
 "nbformat": 4,
 "nbformat_minor": 5
}
