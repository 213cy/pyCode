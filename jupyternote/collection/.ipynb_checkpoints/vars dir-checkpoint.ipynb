{
 "cells": [
  {
   "cell_type": "code",
   "execution_count": 1,
   "id": "3ed9e4d0",
   "metadata": {},
   "outputs": [
    {
     "name": "stdout",
     "output_type": "stream",
     "text": [
      "<class 'mappingproxy'> <class 'mappingproxy'> <class 'dict'> <class 'dict'>\n",
      "True\n"
     ]
    }
   ],
   "source": [
    "# dir and vars\n",
    "print( type(vars(object)), type(vars(list)), type( vars() ), type( vars(__builtins__) ) )\n",
    "\n",
    "print( vars() is globals() is locals() )"
   ]
  },
  {
   "cell_type": "code",
   "execution_count": 1,
   "id": "57f8d7bc",
   "metadata": {},
   "outputs": [
    {
     "name": "stdout",
     "output_type": "stream",
     "text": [
      "True\n",
      "True\n",
      "True\n"
     ]
    }
   ],
   "source": [
    "print( vars(__builtins__) is __builtins__.__dict__ )\n",
    "print(  set( vars(__builtins__).keys() ) == set( dir(__builtins__) ) )\n",
    "print(  set( vars().keys() ) == set( dir() ) )"
   ]
  },
  {
   "cell_type": "code",
   "execution_count": 3,
   "id": "76a91282",
   "metadata": {},
   "outputs": [
    {
     "name": "stdout",
     "output_type": "stream",
     "text": [
      "True\n",
      "False False\n",
      "True True\n",
      "False\n"
     ]
    }
   ],
   "source": [
    "print( hasattr(object,'__dict__') )\n",
    "print( '__dict__' in  dir(object) , '__dict__' in vars(object).keys() )\n",
    "print( '__dir__' in  dir(object) , '__dir__' in vars(object).keys() )\n",
    "print( vars( object) is object.__dict__  )"
   ]
  },
  {
   "cell_type": "code",
   "execution_count": 4,
   "id": "9d78877d",
   "metadata": {
    "scrolled": true
   },
   "outputs": [
    {
     "name": "stdout",
     "output_type": "stream",
     "text": [
      "<class 'list'> <class 'method_descriptor'>\n",
      "<class 'mappingproxy'> <class 'mappingproxy'> False\n",
      "46 36\n",
      "{'__setattr__', '__init_subclass__', '__dir__', '__subclasshook__', '__delattr__', '__reduce__', '__str__', '__class__', '__format__', '__reduce_ex__'}\n",
      "set()\n"
     ]
    }
   ],
   "source": [
    "print( type( dir(list)) , type( list.__dir__ )  )\n",
    "print( type(vars(list)) , type( list.__dict__) , list.__dict__ is vars( list))\n",
    "a=dir(list);b=list(vars(list).keys() )\n",
    "print(len(a),len(b))\n",
    "print( set(a)-set(b) )\n",
    "print( set(b)-set(a) )"
   ]
  },
  {
   "cell_type": "code",
   "execution_count": 5,
   "id": "5629b2d1",
   "metadata": {},
   "outputs": [
    {
     "name": "stdout",
     "output_type": "stream",
     "text": [
      "True False\n",
      "<class 'builtin_function_or_method'> <class 'list'>\n"
     ]
    }
   ],
   "source": [
    "print( hasattr([],'__dir__'),hasattr([],'__dict__') )\n",
    "print( type( [].__dir__ ) , type( dir([])) ); # print( type(vars([])) )"
   ]
  }
 ],
 "metadata": {
  "kernelspec": {
   "display_name": "Python 3",
   "language": "python",
   "name": "python3"
  },
  "language_info": {
   "codemirror_mode": {
    "name": "ipython",
    "version": 3
   },
   "file_extension": ".py",
   "mimetype": "text/x-python",
   "name": "python",
   "nbconvert_exporter": "python",
   "pygments_lexer": "ipython3",
   "version": "3.8.8"
  }
 },
 "nbformat": 4,
 "nbformat_minor": 5
}
