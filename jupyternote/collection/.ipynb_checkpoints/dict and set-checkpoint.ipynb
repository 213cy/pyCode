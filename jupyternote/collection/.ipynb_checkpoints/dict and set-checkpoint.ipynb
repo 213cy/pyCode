{
 "cells": [
  {
   "cell_type": "code",
   "execution_count": 1,
   "id": "0bf639f8",
   "metadata": {},
   "outputs": [],
   "source": [
    "# dict and set"
   ]
  },
  {
   "cell_type": "code",
   "execution_count": 2,
   "id": "5a64fd97",
   "metadata": {},
   "outputs": [
    {
     "name": "stdout",
     "output_type": "stream",
     "text": [
      "{1, 2} {1, 2} {1, 2}\n",
      "{3} {3} {3}\n",
      "{1, 2, 3} {1, 2, 3} {1, 2, 3}\n"
     ]
    }
   ],
   "source": [
    "a = set((1,3))\n",
    "b = {2,3}\n",
    "print( a ^ b , b ^ a , a.symmetric_difference(b))\n",
    "print( a & b , b & a , a.intersection(b))\n",
    "print( a | b , b | a , a.union(b))\n",
    "# print(dir(set))"
   ]
  },
  {
   "cell_type": "code",
   "execution_count": 3,
   "id": "1925429e",
   "metadata": {},
   "outputs": [
    {
     "name": "stdout",
     "output_type": "stream",
     "text": [
      "1\n",
      "True\n",
      "True\n",
      "True\n",
      "True\n",
      "=================================\n",
      "{2, 3} {1, 3}\n",
      "{1, 3} {2, 3}\n"
     ]
    }
   ],
   "source": [
    "t1,t2=True,True\n",
    "assert t1 is t2\n",
    "print( len({t1,t2}) )\n",
    "\n",
    "t1,t2,f1,f2 = True,1,False,0\n",
    "assert len({id(t1),id(t2),id(f1),id(f2)}) == 4\n",
    "\n",
    "# and 的结果为True,返回最后一个表达式\n",
    "print( ( t1 and t2 ) is t2)\n",
    "# and 的结果为False,返回第一个值为False的表达式\n",
    "print( ( f1 and t2 ) is f1)\n",
    "\n",
    "# or 的结果为False,返回,最后一个表达式\n",
    "print( ( f1 or f2 ) is f2)\n",
    "# or 的结果为True,返回第一个值为True的表达式\n",
    "print( ( t1 or f2 ) is t1)\n",
    "\n",
    "print(33*'=')\n",
    "\n",
    "# 故而:\n",
    "print(a and b ,b and a)\n",
    "print(a or b ,b or a)"
   ]
  },
  {
   "cell_type": "code",
   "execution_count": 4,
   "id": "706087c2",
   "metadata": {},
   "outputs": [
    {
     "name": "stdout",
     "output_type": "stream",
     "text": [
      "set()\n",
      "__gt__               True\n",
      "__lt__               True\n",
      "__setstate__         True\n",
      "__doc__              False\n",
      "__getattribute__     True\n",
      "__reduce_ex__        True\n",
      "__sizeof__           True\n",
      "__eq__               True\n",
      "__suppress_context__ True\n",
      "__dir__              True\n",
      "__init_subclass__    False\n",
      "__init__             False\n",
      "__traceback__        True\n",
      "__cause__            True\n",
      "__repr__             True\n",
      "__delattr__          True\n",
      "__setattr__          True\n",
      "__class__            True\n",
      "with_traceback       True\n",
      "__hash__             True\n",
      "__le__               True\n",
      "__ge__               True\n",
      "__str__              True\n",
      "__format__           True\n",
      "__ne__               True\n",
      "__new__              False\n",
      "__reduce__           True\n",
      "__context__          True\n",
      "__subclasshook__     False\n",
      "__dict__             False\n",
      "args                 True\n"
     ]
    }
   ],
   "source": [
    "a,b = dir(OverflowError) ,dir(Exception)\n",
    "\n",
    "a_s,b_s = set(a),set(b)\n",
    "\n",
    "assert set(vars(object)) == set(dir(object))\n",
    "print( (a_s ^ b_s) ) # - set(dir(object)))\n",
    "\n",
    "for k in  a_s & b_s :\n",
    "    print( f'{k:<20}' , getattr(OverflowError,k) is getattr(Exception,k))\n",
    "    "
   ]
  },
  {
   "cell_type": "code",
   "execution_count": 7,
   "id": "593ff805",
   "metadata": {
    "scrolled": true
   },
   "outputs": [
    {
     "name": "stdout",
     "output_type": "stream",
     "text": [
      "difference of keys: {'c'}\n",
      "same values of keys: {'a'}\n",
      "different values of keys:\n",
      "b : 2 3\n"
     ]
    }
   ],
   "source": [
    "# 比较两个字典的不同\n",
    "da,db = {'a':1,'b':2} , {'a':1,'b':3,'c':4}\n",
    "sa,sb = set(da),set(db.keys() ) \n",
    "print('difference of keys:',sa ^ sb)\n",
    "sc = sa & sb\n",
    "sd = set( filter(lambda k :da[k]==db[k],sc) )\n",
    "print('same values of keys:',sd)\n",
    "print('different values of keys:')\n",
    "for k in sc - sd :print(k, ':', da[k] , db[k]) "
   ]
  }
 ],
 "metadata": {
  "kernelspec": {
   "display_name": "Python 3",
   "language": "python",
   "name": "python3"
  },
  "language_info": {
   "codemirror_mode": {
    "name": "ipython",
    "version": 3
   },
   "file_extension": ".py",
   "mimetype": "text/x-python",
   "name": "python",
   "nbconvert_exporter": "python",
   "pygments_lexer": "ipython3",
   "version": "3.8.8"
  }
 },
 "nbformat": 4,
 "nbformat_minor": 5
}
