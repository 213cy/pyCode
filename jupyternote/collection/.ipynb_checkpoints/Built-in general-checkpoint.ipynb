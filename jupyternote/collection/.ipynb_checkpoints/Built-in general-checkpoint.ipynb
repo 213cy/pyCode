{
 "cells": [
  {
   "cell_type": "code",
   "execution_count": 1,
   "id": "85f834a2",
   "metadata": {},
   "outputs": [
    {
     "name": "stdout",
     "output_type": "stream",
     "text": [
      "True\tFalse\tTrue\n",
      "True\n",
      "154 154\n"
     ]
    }
   ],
   "source": [
    "a=dir(__builtin__)\n",
    "b=dir(__builtins__)\n",
    "print( a==b , a is b , all([ k[0] is k[1]  for k in zip(a,b) ]),sep= '\\t' )\n",
    "\n",
    "b = vars(__builtins__)\n",
    "print(set(a) == set(b) == set( b.keys()) == set(k for k in b) ) # 默认行为\n",
    "\n",
    "print(len(a),len(b))\n"
   ]
  },
  {
   "cell_type": "code",
   "execution_count": 2,
   "id": "4ebf363a",
   "metadata": {
    "scrolled": false
   },
   "outputs": [
    {
     "name": "stdout",
     "output_type": "stream",
     "text": [
      "True 3\n",
      "=======================================================\n",
      "__name__                       builtins\n",
      "__doc__                        Built-in functions, exceptions, and other objects.\n",
      "\n",
      "Noteworthy: None is the `nil' object; Ellipsis represents `...' in slices.\n",
      "__package__                    \n"
     ]
    }
   ],
   "source": [
    "# str objects in built-in module\n",
    "\n",
    "def m(k):\n",
    "    return isinstance(k[1],str)\n",
    "\n",
    "b_vars = vars(__builtins__)\n",
    "\n",
    "s1= dict( filter(m,b_vars.items()) )\n",
    "s2 = {a:b for a,b in b_vars.items() if m((a,b))}\n",
    "\n",
    "\n",
    "print( s1 == s2 ,len(s1))\n",
    "print(55*'=')\n",
    "for k,v in s1.items() :print(f'{k:<30}',v)"
   ]
  },
  {
   "cell_type": "code",
   "execution_count": 3,
   "id": "eac002d8",
   "metadata": {},
   "outputs": [
    {
     "name": "stdout",
     "output_type": "stream",
     "text": [
      "__name__<class 'str'> \t\t\t builtins<class 'str'>\n",
      "__doc__<class 'str'> \t\t\t Built-in functions, exceptions, and other objects.\n",
      "\n",
      "Noteworthy: None is the `nil' object; Ellipsis represents `...' in slices.<class 'str'>\n",
      "__package__<class 'str'> \t\t\t <class 'str'>\n",
      "__spec__<class 'str'> \t\t\t ModuleSpec(name='builtins', loader=<class '_frozen_importlib.BuiltinImporter'>)<class '_frozen_importlib.ModuleSpec'>\n",
      "None<class 'str'> \t\t\t None<class 'NoneType'>\n",
      "Ellipsis<class 'str'> \t\t\t Ellipsis<class 'ellipsis'>\n",
      "NotImplemented<class 'str'> \t\t\t NotImplemented<class 'NotImplementedType'>\n",
      "False<class 'str'> \t\t\t False<class 'bool'>\n",
      "True<class 'str'> \t\t\t True<class 'bool'>\n",
      "__debug__<class 'str'> \t\t\t True<class 'bool'>\n",
      "__IPYTHON__<class 'str'> \t\t\t True<class 'bool'>\n",
      "=================================\n",
      "False\n",
      "issubclass() arg 1 must be a class\n",
      "不是class的对象(isinstance(x,type) != true) 不能用issubclass进行检测 \n"
     ]
    }
   ],
   "source": [
    "# noncallable objects in built-in module\n",
    "cc= dict(filter(lambda x : not callable(x[1]) ,b.items())) \n",
    "for k in cc.items() :print( '%s%s \\t\\t\\t %s%s' % (k[0],type(k[0]),k[1],type(k[1])) )\n",
    "\n",
    "print(33*'=')\n",
    "    \n",
    "print( any(isinstance(k,type) for k in cc.values()) )\n",
    "try:\n",
    "    for k in cc.values() : issubclass(k,BaseException)\n",
    "except Exception as e:\n",
    "    print(e)\n",
    "    print('不是class的对象(isinstance(x,type) != true) 不能用issubclass进行检测 ')"
   ]
  },
  {
   "cell_type": "code",
   "execution_count": 4,
   "id": "ecd5579e",
   "metadata": {},
   "outputs": [
    {
     "name": "stdout",
     "output_type": "stream",
     "text": [
      "True\n",
      "143\n",
      "=================================\n",
      "ImportWarning <class 'str'>\n",
      "<class 'ImportWarning'> <class 'ImportWarning'> <class 'ImportWarning'> <class 'type'>\n",
      "True\n",
      "<class 'ImportWarning'> (<class 'ImportWarning'>, <class 'Warning'>, <class 'Exception'>, <class 'BaseException'>, <class 'object'>)\n",
      "True\n"
     ]
    }
   ],
   "source": [
    "# callable objects in built-in module\n",
    "c= dict(filter(lambda x : callable(x[1]) ,b.items())) \n",
    "print( all(map(lambda x : hasattr( x[1] ,'__call__' ) , c.items() )) )\n",
    "print(len(c))\n",
    "\n",
    "print(33*'=')\n",
    "\n",
    "import random\n",
    "\n",
    "key = random.choice(list(c.keys()))\n",
    "val = c[key]\n",
    "print( key , type(key) )\n",
    "print( val , repr(val) , str(val) , type(val) )\n",
    "\n",
    "print( val.__class__ is type(val) )\n",
    "try :\n",
    "    if type(val) is type(abs):\n",
    "        print(val.__class__,val.__class__.__mro__)\n",
    "    else:\n",
    "        print(val,val.__mro__)\n",
    "        print( val.__mro__[0] is val )\n",
    "except Exception as e:\n",
    "    print( e )\n",
    "\n"
   ]
  },
  {
   "cell_type": "code",
   "execution_count": 5,
   "id": "94bac088",
   "metadata": {},
   "outputs": [
    {
     "name": "stdout",
     "output_type": "stream",
     "text": [
      "27 + 42 = 69\n",
      "=================================\n",
      "input \t <class 'method'>\n",
      "copyright \t <class '_sitebuiltins._Printer'>\n",
      "credits \t <class '_sitebuiltins._Printer'>\n",
      "license \t <class '_sitebuiltins._Printer'>\n",
      "help \t <class '_sitebuiltins._Helper'>\n",
      "display \t <class 'function'>\n",
      "get_ipython \t <class 'method'>\n"
     ]
    }
   ],
   "source": [
    "exp,typ,fnc,oth={},{},{},{}\n",
    "def fun(item):\n",
    "#     print(item)\n",
    "    key,val = item\n",
    "    if isinstance(val,type):\n",
    "        if issubclass(val,BaseException):\n",
    "#             Exception\n",
    "            exp[key]=val\n",
    "            return False\n",
    "        else:\n",
    "#             class\n",
    "            typ[key]=val\n",
    "            return True\n",
    "    else:\n",
    "        if type(val) is type(abs):\n",
    "#             builtin_function_or_method\n",
    "            fnc[key]=val\n",
    "            return True\n",
    "        else:\n",
    "#             other\n",
    "            oth[key]=val\n",
    "            return False\n",
    "            \n",
    "d= dict( filter(fun,c.items()) )\n",
    "\n",
    "print( len(typ) , '+', len(fnc), '=', len(d))\n",
    "print(33*'=')\n",
    "\n",
    "# print(oth)\n",
    "for k,v in oth.items() : print(k,'\\t',type(v))"
   ]
  },
  {
   "cell_type": "code",
   "execution_count": 6,
   "id": "d544037f",
   "metadata": {},
   "outputs": [
    {
     "name": "stdout",
     "output_type": "stream",
     "text": [
      "True\n",
      "True\n",
      "False\n",
      "=================================\n",
      "True\n",
      "False\n",
      "True\n"
     ]
    }
   ],
   "source": [
    "# cause 是 Exceptions 特有的 属性\n",
    "print( all(map(lambda x : BaseException in x.__mro__ , exp.values() )) )\n",
    "print( all(map(lambda x : hasattr( x ,'__cause__' ), exp.values() )) )\n",
    "print( any(map(lambda x : hasattr( x ,'__cause__' ), d.values() )) )# 对照,说明'特有'\n",
    "\n",
    "print(33*'=')\n",
    "\n",
    "# functions 都是 builtin_function_or_method 的实例\n",
    "print( all(map(lambda x : isinstance( x ,abs.__class__ ), fnc.values() )) )\n",
    "print( any(map(lambda x : hasattr( x ,'__mro__' ), fnc.values() )) )\n",
    "print( all(map(lambda x : hasattr( x ,'__mro__' ), typ.values() )) )# 对照,说明不是class\n"
   ]
  },
  {
   "cell_type": "code",
   "execution_count": 7,
   "id": "03d0a5c9",
   "metadata": {},
   "outputs": [
    {
     "name": "stdout",
     "output_type": "stream",
     "text": [
      "{'__doc__'}\n",
      "set()\n",
      "{'__module__', '__call__', '__text_signature__', '__self__', '__qualname__', '__name__'}\n",
      "=================================\n",
      "($module, i, /)\n",
      "False\n",
      "<method-wrapper '__call__' of type object at 0x000007FEECC18D10>\n"
     ]
    }
   ],
   "source": [
    "cls_set = set(vars(str))\n",
    "for k in typ.values(): cls_set= cls_set & set(vars(k))\n",
    "print(cls_set)\n",
    "\n",
    "cls_set = set(dir(str))\n",
    "for k in typ.values(): cls_set= cls_set & set(dir(k))\n",
    "print(cls_set - set(dir(object)))\n",
    "\n",
    "fnc_set = set(dir(abs))\n",
    "for k in fnc.values(): fnc_set= fnc_set & set(dir(k))\n",
    "print(fnc_set - set(dir(object)))\n",
    "\n",
    "print(33*'=')\n",
    "\n",
    "print( chr.__text_signature__ )\n",
    "print( '__call__' in set(vars(int)) )\n",
    "print( int.__call__ )"
   ]
  },
  {
   "cell_type": "code",
   "execution_count": 8,
   "id": "2bc2a4c1",
   "metadata": {},
   "outputs": [
    {
     "name": "stdout",
     "output_type": "stream",
     "text": [
      "154\n"
     ]
    },
    {
     "ename": "KeyboardInterrupt",
     "evalue": "",
     "output_type": "error",
     "traceback": [
      "\u001b[1;31m---------------------------------------------------------------------------\u001b[0m",
      "\u001b[1;31mKeyboardInterrupt\u001b[0m                         Traceback (most recent call last)",
      "\u001b[1;32m<ipython-input-8-f53517114c22>\u001b[0m in \u001b[0;36m<module>\u001b[1;34m\u001b[0m\n\u001b[0;32m      3\u001b[0m \u001b[0mprint\u001b[0m\u001b[1;33m(\u001b[0m\u001b[0mlen\u001b[0m\u001b[1;33m(\u001b[0m\u001b[0mb\u001b[0m\u001b[1;33m)\u001b[0m\u001b[1;33m)\u001b[0m\u001b[1;33m\u001b[0m\u001b[1;33m\u001b[0m\u001b[0m\n\u001b[0;32m      4\u001b[0m \u001b[1;31m# raise SystemExit\u001b[0m\u001b[1;33m\u001b[0m\u001b[1;33m\u001b[0m\u001b[1;33m\u001b[0m\u001b[0m\n\u001b[1;32m----> 5\u001b[1;33m \u001b[1;32mraise\u001b[0m \u001b[0mKeyboardInterrupt\u001b[0m\u001b[1;33m\u001b[0m\u001b[1;33m\u001b[0m\u001b[0m\n\u001b[0m\u001b[0;32m      6\u001b[0m \u001b[0ma\u001b[0m \u001b[1;33m=\u001b[0m \u001b[0minput\u001b[0m\u001b[1;33m(\u001b[0m\u001b[1;33m)\u001b[0m\u001b[1;33m\u001b[0m\u001b[1;33m\u001b[0m\u001b[0m\n\u001b[0;32m      7\u001b[0m \u001b[1;32mif\u001b[0m \u001b[0ma\u001b[0m \u001b[1;33m==\u001b[0m \u001b[1;34m'danger'\u001b[0m\u001b[1;33m:\u001b[0m\u001b[1;33m\u001b[0m\u001b[1;33m\u001b[0m\u001b[0m\n",
      "\u001b[1;31mKeyboardInterrupt\u001b[0m: "
     ]
    }
   ],
   "source": [
    "# 危险操作\n",
    "b = vars(__builtins__)\n",
    "print(len(b))\n",
    "# raise SystemExit\n",
    "raise KeyboardInterrupt\n",
    "a = input()\n",
    "if a == 'danger':\n",
    "    for k in range(20):# or range(99)\n",
    "        b.popitem()\n",
    "    print( b.popitem() )\n",
    "print( _ )\n",
    "print(len(b))"
   ]
  }
 ],
 "metadata": {
  "kernelspec": {
   "display_name": "Python 3",
   "language": "python",
   "name": "python3"
  },
  "language_info": {
   "codemirror_mode": {
    "name": "ipython",
    "version": 3
   },
   "file_extension": ".py",
   "mimetype": "text/x-python",
   "name": "python",
   "nbconvert_exporter": "python",
   "pygments_lexer": "ipython3",
   "version": "3.8.8"
  }
 },
 "nbformat": 4,
 "nbformat_minor": 5
}
