{
 "cells": [
  {
   "cell_type": "code",
   "execution_count": 1,
   "id": "40c078f1",
   "metadata": {},
   "outputs": [
    {
     "name": "stdout",
     "output_type": "stream",
     "text": [
      "True\n",
      "27 33 1b 1b\n",
      "27 0x1b 0o33 0b11011 27\n",
      "27 27 27 27\n",
      "27 27 27 27\n"
     ]
    }
   ],
   "source": [
    "#  int <=> str\n",
    "x,x1,x2,x3 = 27,0x1b,0o33,0b11011\n",
    "print( x is x1 is x2 is x3)\n",
    "print('%d %o %x' % (x,x,x),bytes([x]).hex() )\n",
    "print( str(x), hex(x) , oct(x) , bin(x), ascii(x) )\n",
    "s,s1,s2,s3 = '0x1b', '27', '0o33', '0b11011'\n",
    "print( eval(s) , eval(s1), eval(s2) , eval(s3))\n",
    "print(int(s,16),int(s1,10),int(s2,8),int(s3,2))"
   ]
  },
  {
   "cell_type": "code",
   "execution_count": 5,
   "id": "84fe30a2",
   "metadata": {
    "scrolled": true
   },
   "outputs": [
    {
     "name": "stdout",
     "output_type": "stream",
     "text": [
      "65 A\n",
      "9 \t\n",
      "27 \u001b\n",
      "27 \u001b\n",
      "27 \u001b\n",
      "27 \u001b\n",
      "27 \u001b\n"
     ]
    }
   ],
   "source": [
    "#  ord <=> str\n",
    "print( ord('A')     , 'A' )\n",
    "print( ord('\\t')    , '\\t')\n",
    "print( ord(chr(x))  , chr(x)  )\n",
    "print( ord('\\033')  , '\\033') # octal value\n",
    "print( ord('\\33')   , '\\33')  # octal value\n",
    "print( ord('\\x1b')   , '\\x1b') # hex value\n",
    "print( ord('\\u001b'), '\\u001b') # 16-bit Unicode hex value\n",
    "# https://docs.python.org/3/reference/lexical_analysis.html#literals"
   ]
  },
  {
   "cell_type": "code",
   "execution_count": 1,
   "id": "b514cd35",
   "metadata": {},
   "outputs": [
    {
     "name": "stdout",
     "output_type": "stream",
     "text": [
      "81431840 81431840 81432128 81431840\n",
      "True\n",
      "True\n",
      "b'\\x1b' 0x1b 1b\n",
      "27\n",
      "27\n",
      "b'A'\n",
      "A\n",
      "abcd\n",
      "61-62-63-64\n"
     ]
    }
   ],
   "source": [
    "#  bytes <=> str  int\n",
    "x = 27\n",
    "b = b'\\x1b'\n",
    "b1 = bytes.fromhex('1b')\n",
    "b2 = int.to_bytes(x ,byteorder='little',length=1) \n",
    "b3 = bytes([x])\n",
    "print(id(b ) ,id(b1) ,id(b2), id(b3 ))\n",
    "print( b is b1 is b3 )\n",
    "print( b == b1 == b2 == b3)\n",
    "\n",
    "print(b, hex(x), bytes([x]).hex() )\n",
    "print( int.from_bytes(b,byteorder='little') )\n",
    "for k in b : print(k)\n",
    "    \n",
    "print('A'.encode())\n",
    "print('A'.encode().decode())\n",
    "print(b'abcd'.decode())\n",
    "print(b'abcd'.hex('-'))"
   ]
  },
  {
   "cell_type": "code",
   "execution_count": 7,
   "id": "850ff3e1",
   "metadata": {},
   "outputs": [
    {
     "name": "stdout",
     "output_type": "stream",
     "text": [
      "77173840 77173840 77136208 77173840 77139808\n",
      "True\n",
      "True\n",
      "b'A' 0x1b 1b\n",
      "65 65\n",
      "65\n"
     ]
    }
   ],
   "source": [
    "#   bytes <=> int \n",
    "b = b'A'\n",
    "b1 = bytes.fromhex( f\"{ord('A'):x}\" )\n",
    "b2 = int.to_bytes(ord('A') ,byteorder='little',length=1) \n",
    "b3 = bytes([ord('A')])\n",
    "b4 = (65).to_bytes(byteorder='little',length=1) \n",
    "print(id(b ) ,id(b1) ,id(b2), id(b3) , id(b4) )\n",
    "print( b is b1 is b3  )\n",
    "print( b == b1 == b2 == b3 ==b4)\n",
    "\n",
    "print(b, hex(x), bytes([x]).hex() )\n",
    "print( int.from_bytes(b,byteorder='little') ,b[0])\n",
    "for k in b : print(k)"
   ]
  },
  {
   "cell_type": "code",
   "execution_count": 8,
   "id": "a7cdea7c",
   "metadata": {},
   "outputs": [
    {
     "name": "stdout",
     "output_type": "stream",
     "text": [
      "43981\n",
      "43981\n",
      "61626364\n",
      "<class 'str'> <class 'str'>\n",
      "1684234849\n"
     ]
    }
   ],
   "source": [
    "a=b'abcd'\n",
    "print( int(a,16) )\n",
    "print( int(a.decode(),16) )\n",
    "print( a.hex() )\n",
    "print( type( a.decode() ) , type( a.hex('-')) )\n",
    "print( int.from_bytes(a,'little') )"
   ]
  },
  {
   "cell_type": "code",
   "execution_count": 4,
   "id": "2c0ab09d",
   "metadata": {},
   "outputs": [
    {
     "name": "stdout",
     "output_type": "stream",
     "text": [
      "'\\033[32mcccccccc','\\x1b[34mdddddddd'\n",
      "<class 'NoneType'>\n",
      "\u001b[32mcccccccc \u001b[34mdddddddd\n",
      "\u001b[31maaaaaaaa \u001b[35mbbbbbbbb \n",
      "<class 'NoneType'>\n"
     ]
    }
   ],
   "source": [
    "a=\"'\\\\033[32mcccccccc'\"+\",\"+\"'\\\\x1b[34mdddddddd'\"\n",
    "c=print(a);print(type(c))\n",
    "eval(\"print(\"+a+\")\")\n",
    "print('\\x1b[31maaaaaaaa',\"\\033[35mbbbbbbbb \")\n",
    "print(type(c))"
   ]
  },
  {
   "cell_type": "code",
   "execution_count": 5,
   "id": "8843f615",
   "metadata": {},
   "outputs": [
    {
     "name": "stdout",
     "output_type": "stream",
     "text": [
      "abcdefghijklmnopqrstuvwxyz\n",
      "\u001b[26ma\u001b[27mb\u001b[28mc\u001b[29md\u001b[30me\u001b[31mf\u001b[32mg\u001b[33mh\u001b[34mi\u001b[35mj\u001b[36mk\u001b[37ml\u001b[38mm\u001b[39mn\u001b[40mo\u001b[41mp\u001b[42mq\u001b[43mr\u001b[44ms\u001b[45mt\u001b[46mu\u001b[47mv\u001b[48mw\u001b[49mx\u001b[50my\u001b[51mz\n",
      "['\\x1b[26ma', '\\x1b[27mb', '\\x1b[28mc', '\\x1b[29md', '\\x1b[30me', '\\x1b[31mf', '\\x1b[32mg', '\\x1b[33mh', '\\x1b[34mi', '\\x1b[35mj', '\\x1b[36mk', '\\x1b[37ml', '\\x1b[38mm', '\\x1b[39mn', '\\x1b[40mo', '\\x1b[41mp', '\\x1b[42mq', '\\x1b[43mr', '\\x1b[44ms', '\\x1b[45mt', '\\x1b[46mu', '\\x1b[47mv', '\\x1b[48mw', '\\x1b[49mx', '\\x1b[50my', '\\x1b[51mz']\n",
      "\u001b[26ma\u001b[27mb\u001b[28mc\u001b[29md\u001b[30me\u001b[31mf\u001b[32mg\u001b[33mh\u001b[34mi\u001b[35mj\u001b[36mk\u001b[37ml\u001b[38mm\u001b[39mn\u001b[40mo\u001b[41mp\u001b[42mq\u001b[43mr\u001b[44ms\u001b[45mt\u001b[46mu\u001b[47mv\u001b[48mw\u001b[49mx\u001b[50my\u001b[51mz\n",
      "====================\n",
      "['\\x1b[26ma', '\\x1b[27mb', '\\x1b[28mc', '\\x1b[29md', '\\x1b[30me', '\\x1b[31mf', '\\x1b[32mg', '\\x1b[33mh', '\\x1b[34mi', '\\x1b[35mj', '\\x1b[36mk', '\\x1b[37ml', '\\x1b[38mm', '\\x1b[39mn', '\\x1b[40mo', '\\x1b[41mp', '\\x1b[42mq', '\\x1b[43mr', '\\x1b[44ms', '\\x1b[45mt', '\\x1b[46mu', '\\x1b[47mv', '\\x1b[48mw', '\\x1b[49mx', '\\x1b[50my', '\\x1b[51mz']\n",
      "\u001b[26ma\u001b[27mb\u001b[28mc\u001b[29md\u001b[30me\u001b[31mf\u001b[32mg\u001b[33mh\u001b[34mi\u001b[35mj\u001b[36mk\u001b[37ml\u001b[38mm\u001b[39mn\u001b[40mo\u001b[41mp\u001b[42mq\u001b[43mr\u001b[44ms\u001b[45mt\u001b[46mu\u001b[47mv\u001b[48mw\u001b[49mx\u001b[50my\u001b[51mz\n"
     ]
    }
   ],
   "source": [
    "print(''.join(chr(k) for k in range(ord('a'),ord(\"z\")+1) ))\n",
    "S = 26\n",
    "N = 52\n",
    "c = zip(range(S,N),range(ord('a'),ord(\"z\")+1))\n",
    "print( ''.join(  f'\\033[{k[0]}m{chr(k[1])}' for k in c  ) )\n",
    "c = zip(range(S,N),range(ord('a'),ord(\"z\")+1))\n",
    "a =  [ f'\\033[{k[0]}m{chr(k[1])}' for k in c  ] \n",
    "print(a)\n",
    "print( ''.join(a) )\n",
    "\n",
    "print(10*'==')\n",
    "\n",
    "c = zip(range(S,N),range(ord('a'),ord(\"z\")+1))\n",
    "b = ['\\033[%sm%s' % (k[0],chr(k[1]) )  for k in c ]\n",
    "print(b)\n",
    "print( ''.join(b) )"
   ]
  }
 ],
 "metadata": {
  "kernelspec": {
   "display_name": "Python 3",
   "language": "python",
   "name": "python3"
  },
  "language_info": {
   "codemirror_mode": {
    "name": "ipython",
    "version": 3
   },
   "file_extension": ".py",
   "mimetype": "text/x-python",
   "name": "python",
   "nbconvert_exporter": "python",
   "pygments_lexer": "ipython3",
   "version": "3.8.8"
  }
 },
 "nbformat": 4,
 "nbformat_minor": 5
}
