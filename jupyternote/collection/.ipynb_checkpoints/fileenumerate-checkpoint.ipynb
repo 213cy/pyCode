{
 "cells": [
  {
   "cell_type": "code",
   "execution_count": 4,
   "id": "c22815ed",
   "metadata": {},
   "outputs": [
    {
     "name": "stdout",
     "output_type": "stream",
     "text": [
      "C:\\Users\\Administrator\\Documents\\python\\jupyternote\\collection\n",
      "['.ipynb_checkpoints', 'Built-in Classes and Functions.ipynb', 'Built-in Exceptions.ipynb', 'Built-in Functions and Types.ipynb', 'Built-in general.ipynb', 'bytes and ctypes.ipynb', 'dict and set.ipynb', 'int bytes str.ipynb', 'miscellaneous.ipynb', 'python time.ipynb', 'test environment.ipynb', 'tips.ipynb', 'unicode.ipynb', 'Untitled.ipynb', 'vars dir.ipynb']\n"
     ]
    }
   ],
   "source": [
    "import os\n",
    "\n",
    "print(os.getcwd())\n",
    "print(os.listdir())"
   ]
  },
  {
   "cell_type": "code",
   "execution_count": 8,
   "id": "7cfde7a1",
   "metadata": {},
   "outputs": [
    {
     "name": "stdout",
     "output_type": "stream",
     "text": [
      "['..\\\\collection\\\\fileenumerate.ipynb']\n"
     ]
    }
   ],
   "source": [
    "import glob\n",
    "files = glob.glob(\"../*/*file*\")\n",
    "print(files)"
   ]
  },
  {
   "cell_type": "code",
   "execution_count": null,
   "id": "898c28ea",
   "metadata": {},
   "outputs": [],
   "source": [
    "# 以下未整理"
   ]
  },
  {
   "cell_type": "code",
   "execution_count": null,
   "id": "68a80334",
   "metadata": {},
   "outputs": [],
   "source": [
    "for r,d,fs in os.walk('.'):\n",
    "    if \"spectrograms\" not in r:\n",
    "        print(r, d, len(fs))\n",
    "        for f in fs:\n",
    "            if not f.endswith(\".png\"):\n",
    "                print(f)"
   ]
  },
  {
   "cell_type": "code",
   "execution_count": null,
   "id": "a7124acb",
   "metadata": {},
   "outputs": [],
   "source": [
    "os.path.isfile(full_path)"
   ]
  }
 ],
 "metadata": {
  "kernelspec": {
   "display_name": "Python 3",
   "language": "python",
   "name": "python3"
  },
  "language_info": {
   "codemirror_mode": {
    "name": "ipython",
    "version": 3
   },
   "file_extension": ".py",
   "mimetype": "text/x-python",
   "name": "python",
   "nbconvert_exporter": "python",
   "pygments_lexer": "ipython3",
   "version": "3.8.8"
  }
 },
 "nbformat": 4,
 "nbformat_minor": 5
}
