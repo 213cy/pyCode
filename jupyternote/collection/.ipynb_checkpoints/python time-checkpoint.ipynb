{
 "cells": [
  {
   "cell_type": "code",
   "execution_count": 1,
   "id": "392ef718",
   "metadata": {},
   "outputs": [],
   "source": [
    "import time\n",
    "import datetime"
   ]
  },
  {
   "cell_type": "code",
   "execution_count": 2,
   "id": "ec78101d",
   "metadata": {
    "scrolled": true
   },
   "outputs": [
    {
     "name": "stdout",
     "output_type": "stream",
     "text": [
      "True\n",
      "1601-01-01 00:00:00\t1970-01-01 08:00:00\t134774 days, 8:00:00\t2339-01-01 16:00:00\n",
      "1601-01-01 00:00:00\t1970-01-01 00:00:00\t134774 days, 0:00:00\t2339-01-01 00:00:00\n"
     ]
    }
   ],
   "source": [
    "a=datetime.datetime.fromisoformat('1601-01-01')\n",
    "a2=datetime.datetime(1601,1,1)\n",
    "print(a==a2)\n",
    "b=datetime.datetime.fromtimestamp(0)\n",
    "# b2 = datetime.datetime.fromtimestamp(time.mktime( time.gmtime(0) ))\n",
    "b2 = datetime.datetime(1970,1,1)\n",
    "c=b-a\n",
    "c2 = b2-a\n",
    "d=b+(b-a)\n",
    "d2=b2+(b2-a)\n",
    "print(a,b,c,d,sep='\\t')\n",
    "print(a2,b2,c2,d2,sep='\\t')"
   ]
  },
  {
   "cell_type": "code",
   "execution_count": 3,
   "id": "bd486bae",
   "metadata": {},
   "outputs": [
    {
     "name": "stdout",
     "output_type": "stream",
     "text": [
      "11644502400.0\t11644502400.0\t11644473600.0\n"
     ]
    }
   ],
   "source": [
    "f=time.mktime( d.timetuple() )\n",
    "g=c.total_seconds()\n",
    "g2=c2.total_seconds()\n",
    "print(f,g,g2, sep='\\t')"
   ]
  },
  {
   "cell_type": "code",
   "execution_count": 16,
   "id": "a55bc882",
   "metadata": {},
   "outputs": [
    {
     "name": "stdout",
     "output_type": "stream",
     "text": [
      "Thu Nov 25 18:57:22 2021\t2021-11-25 18:57:22\n",
      "Wed Feb 23 16:34:46 2022\t2022-02-23 16:34:46\n",
      "13253904000000000 Mon Jan  1 00:00:00 2390\n",
      "13285440000000000\n"
     ]
    }
   ],
   "source": [
    "ntfs = 13243258322267351\n",
    "ntfs = 13237142400000000\n",
    "ntfs = 13282311442811024\n",
    "s = ntfs/1000000-g2 \n",
    "print( time.ctime( s ) , end='\\t')\n",
    "print( time.strftime('%Y-%m-%d %H:%M:%S',time.localtime( s )) )\n",
    "ntfs = 13290078886463863\n",
    "s = ntfs/1000000-g2 \n",
    "print( time.ctime( s ) , end='\\t')\n",
    "print( time.strftime('%Y-%m-%d %H:%M:%S',time.localtime( s )) )\n",
    "\n",
    "# time.localtime(s)\n",
    "t = time.strptime('2021-01-01','%Y-%m-%d')\n",
    "print( int( (time.mktime(t)+g2)*1000000 ) )\n",
    "\n",
    "t = time.strptime('2022-01-01','%Y-%m-%d')\n",
    "print( int( (time.mktime(t)+g2)*1000000 ) )\n"
   ]
  },
  {
   "cell_type": "code",
   "execution_count": 5,
   "id": "dd4d142f",
   "metadata": {},
   "outputs": [
    {
     "name": "stdout",
     "output_type": "stream",
     "text": [
      "<class 'time.struct_time'>\n",
      "time.struct_time(tm_year=1601, tm_mon=1, tm_mday=1, tm_hour=0, tm_min=0, tm_sec=0, tm_wday=0, tm_yday=1, tm_isdst=-1)\n",
      "============================================================\n",
      "<class 'str'> Mon, 01 Jan 1601 00:00:00 +0000\n",
      "<class 'str'> Mon Jan  1 00:00:00 1601\n",
      "mktime argument out of range\n"
     ]
    }
   ],
   "source": [
    "#  str  <==>  struct_time\n",
    "t=time.strptime('1601-01-01','%Y-%m-%d')\n",
    "print( type(t) ,t ,sep='\\n')\n",
    "\n",
    "print( 30*'==')\n",
    "c=time.strftime(\"%a, %d %b %Y %H:%M:%S +0000\", t)\n",
    "print( type(c) ,c )\n",
    "c=time.asctime( t )\n",
    "print( type(c) ,c )\n",
    "\n",
    "try:\n",
    "    time.mktime(t)\n",
    "except Exception as e:\n",
    "    print( e )"
   ]
  },
  {
   "cell_type": "code",
   "execution_count": 6,
   "id": "13cee1e5",
   "metadata": {
    "scrolled": true
   },
   "outputs": [
    {
     "name": "stdout",
     "output_type": "stream",
     "text": [
      "<class 'time.struct_time'> time.struct_time(tm_year=2022, tm_mon=2, tm_mday=25, tm_hour=14, tm_min=44, tm_sec=15, tm_wday=4, tm_yday=56, tm_isdst=0)\n",
      "<class 'time.struct_time'> time.struct_time(tm_year=1970, tm_mon=1, tm_mday=1, tm_hour=8, tm_min=0, tm_sec=0, tm_wday=3, tm_yday=1, tm_isdst=0)\n",
      "============================================================\n",
      "<class 'str'> Fri Feb 25 14:44:15 2022\n",
      "<class 'str'> Thu Jan  1 08:00:00 1970\n",
      "============================================================\n",
      "<class 'float'> 1645771455.0\n",
      "<class 'float'> 1645771455.8936298\n"
     ]
    }
   ],
   "source": [
    "#  secs 输入\n",
    "t= time.localtime()\n",
    "print( type(t) ,t )\n",
    "t= time.localtime(0)\n",
    "print( type(t) ,t )\n",
    "\n",
    "print( 30*'==')\n",
    "\n",
    "t = time.ctime()\n",
    "print( type(t) ,t )\n",
    "t = time.ctime(0)\n",
    "print( type(t) ,t )\n",
    "\n",
    "print( 30*'==')\n",
    "\n",
    "#  secs 输出\n",
    "tt = time.localtime()\n",
    "s = time.mktime( tt )\n",
    "print( type(s) ,s )\n",
    "s = time.time()\n",
    "print( type(s) ,s )\n"
   ]
  },
  {
   "cell_type": "code",
   "execution_count": 7,
   "id": "d46e8d31",
   "metadata": {},
   "outputs": [
    {
     "name": "stdout",
     "output_type": "stream",
     "text": [
      "<class 'time.struct_time'> time.struct_time(tm_year=2022, tm_mon=2, tm_mday=25, tm_hour=6, tm_min=44, tm_sec=15, tm_wday=4, tm_yday=56, tm_isdst=0)\n",
      "<class 'time.struct_time'> time.struct_time(tm_year=1970, tm_mon=1, tm_mday=1, tm_hour=0, tm_min=0, tm_sec=0, tm_wday=3, tm_yday=1, tm_isdst=0)\n",
      "<class 'float'> 1645771455.0\n"
     ]
    }
   ],
   "source": [
    "#  之前的都是当地时间 只有用 gmtime 时使用的是\n",
    "#  Greenwich Mean Time\n",
    "t = time.gmtime()\n",
    "print( type(t) ,t )\n",
    "t = time.gmtime(0)\n",
    "print( type(t) ,t )\n",
    "\n",
    "s = time.mktime( tt )\n",
    "print( type(s) ,s )"
   ]
  }
 ],
 "metadata": {
  "kernelspec": {
   "display_name": "Python 3",
   "language": "python",
   "name": "python3"
  },
  "language_info": {
   "codemirror_mode": {
    "name": "ipython",
    "version": 3
   },
   "file_extension": ".py",
   "mimetype": "text/x-python",
   "name": "python",
   "nbconvert_exporter": "python",
   "pygments_lexer": "ipython3",
   "version": "3.8.8"
  }
 },
 "nbformat": 4,
 "nbformat_minor": 5
}
