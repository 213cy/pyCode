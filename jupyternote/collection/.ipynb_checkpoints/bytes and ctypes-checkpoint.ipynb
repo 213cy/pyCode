{
 "cells": [
  {
   "cell_type": "code",
   "execution_count": 2,
   "id": "ccb1d6fc",
   "metadata": {},
   "outputs": [
    {
     "name": "stdout",
     "output_type": "stream",
     "text": [
      "b'\\x01\\x02\\x03\\x04\\x05\\x06\\x07\\x08\\t\\n\\x0b\\x0c'\n",
      "b'\\x0c\\x0b\\n\\t\\x08\\x07\\x06\\x05\\x04\\x03\\x02\\x01'\n"
     ]
    }
   ],
   "source": [
    "# bytes and ctypes\n",
    "# python bytes objects => C data types\n",
    "\n",
    "# 【高级教程】ctypes：从python菜鸟到c大神2\n",
    "# https://blog.csdn.net/lingyu_me/article/details/106837084\n",
    "# https://blog.csdn.net/lingyu_me/article/details/106723301\n",
    "\n",
    "from ctypes import *\n",
    "\n",
    "L = 12\n",
    "byts1 = bytes(range(1,L+1))\n",
    "byts2 = bytes(range(L,0,-1))\n",
    "print(byts1)\n",
    "print(byts2)"
   ]
  },
  {
   "cell_type": "code",
   "execution_count": 2,
   "id": "72d27848",
   "metadata": {},
   "outputs": [
    {
     "name": "stdout",
     "output_type": "stream",
     "text": [
      "b'\\x01\\x02\\x03\\x04\\x05\\x06\\x07\\x08\\t\\n\\x0b\\x0c'\n",
      "b'\\x01\\x02\\x03\\x04\\x05\\x06\\x07\\x08\\t\\n\\x0b\\x0c'\n",
      "<class 'ctypes.c_char_Array_12'> <class 'ctypes.c_char_p'>\n",
      "12 8\n",
      "b'\\x01\\x02\\x03\\x04\\x05\\x06\\x07\\x08\\t\\n\\x0b\\x0c'\n",
      "b'\\x0c\\x0b\\n\\t\\x08\\x07\\x06\\x05\\x04\\x03\\x02\\x01'\n"
     ]
    }
   ],
   "source": [
    "# c_char_Array\n",
    "cbA = create_string_buffer(byts1,len(byts1))\n",
    "cbA1 = (c_char*len(byts1)).from_buffer_copy( byts1 )\n",
    "cbA2 = (c_char*len(byts1)).from_buffer(bytearray(byts1))\n",
    "assert cbA.raw == cbA1.raw == cbA2.raw\n",
    "\n",
    "print(cbA.value , cbA[:], sep='\\n') #char array 可以进行索引\n",
    "# c_char_p\n",
    "cbP = c_char_p(byts2)\n",
    "\n",
    "print(type(cbA),type(cbP) )\n",
    "print(sizeof(cbA),sizeof(cbP)) # 一个是数组一个是指针\n",
    "\n",
    "# cbA和cbP 都对应于c中以null结尾的字符串,\n",
    "# 此处bytes中不含b'\\x00',所以没演示出来\n",
    "print( cbA.value , cbP.value, sep='\\n') \n"
   ]
  },
  {
   "cell_type": "code",
   "execution_count": 3,
   "id": "588ac5b9",
   "metadata": {},
   "outputs": [
    {
     "name": "stdout",
     "output_type": "stream",
     "text": [
      "c_char_p(78556808) c_char_p(78556808) c_char_p(78556808)\n",
      "True\n",
      "\n",
      "  ======  value of cbA cbA_P cbA_P2  ======  \n",
      "<ctypes.c_char_Array_12 object at 0x0000000004AEAE40>\n",
      "c_char_p(78556808)\tb'\\x01\\x02\\x03\\x04\\x05\\x06\\x07\\x08\\t\\n\\x0b\\x0c'\n",
      "c_char_p(78556808)\tb'\\x01\\x02\\x03\\x04\\x05\\x06\\x07\\x08\\t\\n\\x0b\\x0c'\n",
      "\n",
      "  ======  address about cbA cbA_P cbA_P2  ======  \n",
      "78556808 0x4aeae88 <cparam 'P' (0x0000000004AEAE88)>\n",
      "c_char_p(78556808) 0x4aeae88\n",
      "78556808 0x4aeae88\n",
      "\n",
      "==============================\n",
      "b'\\x04\\x05\\x06\\x07\\x08\\t\\n\\x0b\\x0c'\n",
      "b'\\x04\\x05\\x06\\x07\\x08\\t\\n\\x0b\\x0c'\n",
      "b'\\x04\\x05\\x06\\x07\\x08\\t\\n\\x0b\\x0c'\n"
     ]
    }
   ],
   "source": [
    "# c_char_Array => c_char_p\n",
    "cbA_P = cast(cbA,c_char_p)\n",
    "# https://docs.python.org/3/library/ctypes.html#type-conversions\n",
    "# cast() takes two parameters, \n",
    "# a ctypes object that is or can be converted to a pointer of some kind, \n",
    "# and a ctypes pointer type.\n",
    "cbA_P1 = cast(pointer(cbA),c_char_p)\n",
    "cbA_P2 = c_char_p(addressof(cbA)) \n",
    "print(cbA_P,cbA_P1,cbA_P2)  # 内容一样,这三个变量的生成方式等效\n",
    "print(cbA_P.value == cbA_P2.value == cbA.raw)\n",
    "print()\n",
    "\n",
    "print('  ======  value of cbA cbA_P cbA_P2  ======  ')\n",
    "print(cbA)\n",
    "print(cbA_P, cbA_P.value, sep='\\t')\n",
    "print(cbA_P2, cbA_P.value, sep='\\t')\n",
    "print( )\n",
    "\n",
    "print('  ======  address about cbA cbA_P cbA_P2  ======  ')\n",
    "print(addressof(cbA),hex(addressof(cbA)),byref(cbA) )\n",
    "print(cbA_P,hex( int(str(cbA_P)[9:-1]) ) )\n",
    "print(cast(cbA_P2,c_void_p).value,hex(cast(cbA_P2,c_void_p).value))\n",
    "print( )\n",
    "\n",
    "print( 30*'=')\n",
    "print(cbA[3:])\n",
    "print(c_char_p(addressof(cbA)+3).value )\n",
    "# 从array的中间元素开始读取到null(截取字符串的后半段),还是得用c_char_p\n",
    "# 这里cbA里面不含\\x00 读取到了最后,所以二者一样\n",
    "print(string_at(addressof(cbA)+3) )"
   ]
  },
  {
   "cell_type": "code",
   "execution_count": 4,
   "id": "234df0e3",
   "metadata": {},
   "outputs": [
    {
     "name": "stdout",
     "output_type": "stream",
     "text": [
      "True\n",
      "\n",
      "  ======  value of cbP cbP_AP cbP_A  ======  \n",
      "c_char_p(78904832)\n",
      "<__main__.LP_c_char_Array_12 object at 0x0000000004B7D740>\n",
      "<ctypes.c_char_Array_12 object at 0x0000000004B7D8C0>\n",
      "b'\\x0c\\x0b\\n\\t\\x08\\x07\\x06\\x05\\x04\\x03\\x02\\x01'\n",
      "<ctypes.c_char_Array_12 object at 0x0000000004B7D7C0>\n",
      "b'\\x0c\\x0b\\n\\t\\x08\\x07\\x06\\x05\\x04\\x03\\x02\\x01'\n",
      "\n",
      "  ======  address about cbP cbP_AP cbP_A  ======  \n",
      "c_char_p(78904832) 78904832 78904832 0x4b3fe00\n",
      "cbP_AP 为指向cbP的指针: 78904832\n",
      "cbP_A 本来就是cbP,仅是改变了指针的类型: 78904832 <cparam 'P' (0x0000000004B3FE00)>\n"
     ]
    }
   ],
   "source": [
    "# c_char_p => c_char_Array\n",
    "cbP_AP = cast(cbP,POINTER(c_char*L) )\n",
    "cbP_A = (c_char*L).from_address(cast(cbP,c_void_p).value)\n",
    "print(cbP_AP.contents.raw == cbP_A.raw == cbP.value)\n",
    "print( )\n",
    "\n",
    "print('  ======  value of cbP cbP_AP cbP_A  ======  ')\n",
    "print(cbP)\n",
    "print(cbP_AP, cbP_AP.contents, cbP_AP.contents.value, sep='\\n')\n",
    "print(cbP_A, cbP_A.value, sep='\\n')\n",
    "print( )\n",
    "\n",
    "print('  ======  address about cbP cbP_AP cbP_A  ======  ')\n",
    "print(cbP,int(str(cbP)[9:-1]), cast(cbP,c_void_p).value,hex(cast(cbP,c_void_p).value))\n",
    "print('cbP_AP 为指向cbP的指针:',addressof(cbP_AP.contents))\n",
    "print('cbP_A 本来就是cbP,仅是改变了指针的类型:',addressof(cbP_A) , byref(cbP_A))"
   ]
  },
  {
   "cell_type": "code",
   "execution_count": 5,
   "id": "856c9ba9",
   "metadata": {},
   "outputs": [
    {
     "name": "stdout",
     "output_type": "stream",
     "text": [
      "4 12\n",
      "2 10\n",
      "little\n"
     ]
    }
   ],
   "source": [
    "class StructA(Structure):\n",
    "\t_fields_ = (\"string\", 5*c_char),(\"num\", c_int)\n",
    "print( alignment(StructA) , sizeof(StructA) )\n",
    "\n",
    "class StructB(Structure):\n",
    "\t_fields_ = (\"string\", 5*c_char),(\"num\", c_int)\n",
    "\t_pack_ = 2\n",
    "print( alignment(StructB) , sizeof(StructB) )\n",
    "\n",
    "import sys\n",
    "print(sys.byteorder)"
   ]
  },
  {
   "cell_type": "code",
   "execution_count": 6,
   "id": "32b1057b",
   "metadata": {},
   "outputs": [
    {
     "name": "stdout",
     "output_type": "stream",
     "text": [
      "<__main__.StructA object at 0x0000000004B7DA40> \n",
      " b'abcde' b'ijkl'\n",
      "<__main__.StructB object at 0x0000000004B7DB40> \n",
      " b'abcde' b'ghij'\n",
      "==============================\n",
      "12 \t b'abcde\\x00\\x00\\x00ijkl'\n",
      "10 \t b'abcde\\x00ijkl'\n",
      "==============================\n",
      "<class '__main__.StructA'> \t b'abcdefghijkl'\n",
      "<class '__main__.StructB'> \t b'abcdefghij'\n",
      "==============================\n",
      "b'abcdefghijkl'\n",
      "b'abcdefghij'\n"
     ]
    }
   ],
   "source": [
    "# bytes => structure\n",
    "\n",
    "byts = b'abcd'b'efgh'b'ijklm'\n",
    "\n",
    "a = POINTER(StructA)( create_string_buffer(byts,len(byts)) ).contents\n",
    "print(a,'\\n',a.string,(a.num).to_bytes(4,'little') )\n",
    "\n",
    "a = cast(c_char_p(byts),POINTER(StructB)).contents\n",
    "print(a,'\\n',a.string,(a.num).to_bytes(4,'little') )\n",
    "\n",
    "print( 30*'=')\n",
    "\n",
    "a=StructA(b'abcde',int.from_bytes(b'ijkl','little')) \n",
    "print(sizeof(a),'\\t', (c_char*sizeof(a)).from_address(addressof( a ) ).raw)\n",
    "\n",
    "a=StructB(b'abcde',int.from_bytes(b'ijkl','little')) \n",
    "print(sizeof(a),'\\t', (c_char*sizeof(a)).from_address(addressof( a ) ).raw)\n",
    "\n",
    "print( 30*'=')\n",
    "\n",
    "a = StructA()\n",
    "memmove(addressof(a),byts, sizeof(a))\n",
    "print(type(a),'\\t', string_at(addressof(a), sizeof(a)) )\n",
    "\n",
    "a = StructB()\n",
    "memmove(addressof(a),byts, sizeof(a))\n",
    "print(a.__class__,'\\t', string_at(addressof(a), sizeof(a)) )\n",
    "\n",
    "print( 30*'=')\n",
    "\n",
    "# from_buffer for WritableBuffer source\n",
    "# from_buffer_copy for ReadOnlyBuffer source\n",
    "a = StructA.from_buffer_copy(byts)\n",
    "print( string_at(addressof(a), sizeof(a)) )\n",
    "\n",
    "a = StructB.from_buffer(bytearray(byts))\n",
    "print( string_at(addressof(a), sizeof(a)) )\n"
   ]
  },
  {
   "cell_type": "code",
   "execution_count": 7,
   "id": "91653462",
   "metadata": {},
   "outputs": [
    {
     "name": "stdout",
     "output_type": "stream",
     "text": [
      "b'abcdefghijklm'\n",
      "<__main__.StructA object at 0x0000000004B7DD40> \n",
      " b'abcde' b'ijkl'\n",
      "<__main__.StructA object at 0x0000000004B7DAC0> \n",
      " b'' b'\\x00\\x00\\x00\\x00'\n",
      "<__main__.StructB object at 0x0000000004B7DCC0> \n",
      " b'abcde' b'ghij'\n",
      "<__main__.StructB object at 0x0000000004B7DAC0> \n",
      " b'' b'\\x00\\x00\\x00\\x00'\n"
     ]
    }
   ],
   "source": [
    "# 一个神奇的结果\n",
    "\n",
    "byts = b'abcd'b'efgh'b'ijklm'\n",
    "\n",
    "print(byts)\n",
    "\n",
    "b= (c_char*len(byts)).from_buffer_copy(byts)\n",
    "a = StructA.from_address(addressof( b ))\n",
    "print(a,'\\n',a.string,(a.num).to_bytes(4,'little') )\n",
    "\n",
    "# 不存在b,所以生成的bytes的buffer被释放并改写了??\n",
    "a = StructA.from_address(addressof( (c_char*len(byts)).from_buffer_copy(byts) ))\n",
    "print(a,'\\n',a.string,(a.num).to_bytes(4,'little') )\n",
    "\n",
    "b= create_string_buffer(byts,len(byts))\n",
    "a = StructB.from_address(addressof( b) )\n",
    "print(a,'\\n',a.string,(a.num).to_bytes(4,'little') )\n",
    "\n",
    "# 不存在b,所以生成的bytes的buffer被释放并改写了??\n",
    "a = StructB.from_address(addressof( create_string_buffer(byts,len(byts)) ))\n",
    "print(a,'\\n',a.string,(a.num).to_bytes(4,'little') )\n"
   ]
  },
  {
   "cell_type": "code",
   "execution_count": 8,
   "id": "c9ac0b82",
   "metadata": {},
   "outputs": [
    {
     "name": "stdout",
     "output_type": "stream",
     "text": [
      "<__main__.StructA object at 0x0000000004B7DAC0> b'\\x01\\x02\\x03\\x04\\x05' b'\\t\\n\\x0b\\x0c'\n",
      "<__main__.StructA object at 0x0000000004B7DEC0> b'\\x01\\x02\\x03\\x04\\x05' b'\\t\\n\\x0b\\x0c'\n",
      "<__main__.StructA object at 0x0000000004B7DAC0> b'\\x01\\x02\\x03\\x04\\x05' b'\\t\\n\\x0b\\x0c'\n",
      "<__main__.StructA object at 0x0000000004B9A140> b'\\x01\\x02\\x03\\x04\\x05' b'\\t\\n\\x0b\\x0c'\n",
      "==============================\n",
      "<__main__.StructA object at 0x0000000004B7DAC0> b'\\x0c\\x0b\\n\\t\\x08' b'\\x04\\x03\\x02\\x01'\n",
      "<__main__.StructA object at 0x0000000004B9A140> b'\\x0c\\x0b\\n\\t\\x08' b'\\x04\\x03\\x02\\x01'\n",
      "<__main__.StructA object at 0x0000000004B7DAC0> b'\\x0c\\x0b\\n\\t\\x08' b'\\x04\\x03\\x02\\x01'\n"
     ]
    }
   ],
   "source": [
    "#  c_char_p c_char_Array bytes => POINTER(structure) => structure\n",
    "\n",
    "StructA_p=POINTER(StructA)\n",
    "\n",
    "a = cast(addressof(cbA),StructA_p)\n",
    "print(a.contents,a.contents.string,(a.contents.num).to_bytes(4,'little') )\n",
    "\n",
    "a = cast(cbA,StructA_p) # equal to cast(pointer(cbA),StructA_p)\n",
    "print(a.contents,a.contents.string,(a.contents.num).to_bytes(4,'little') )\n",
    "\n",
    "a = cast(pointer(cbA),StructA_p)\n",
    "print(a.contents,a.contents.string,(a.contents.num).to_bytes(4,'little') )\n",
    "\n",
    "a = StructA_p(cbA)\n",
    "print(a.contents,a.contents.string,(a.contents.num).to_bytes(4,'little') )\n",
    "\n",
    "\n",
    "print( 30*'=')\n",
    "\n",
    "\n",
    "a = cast(cbP,StructA_p)\n",
    "print(a.contents,a.contents.string,(a.contents.num).to_bytes(4,'little') )\n",
    "\n",
    "a = cast(cast(cbP,c_void_p).value,StructA_p)\n",
    "print(a.contents,a.contents.string,(a.contents.num).to_bytes(4,'little') )\n",
    "\n",
    "# 强行使用 StructA_p 对 cbP 进行转换\n",
    "a = StructA_p(StructA.from_buffer_copy( cbP.value ) ) \n",
    "print(a.contents,a.contents.string,(a.contents.num).to_bytes(4,'little') )\n"
   ]
  },
  {
   "cell_type": "code",
   "execution_count": 9,
   "id": "d4dda87f",
   "metadata": {},
   "outputs": [
    {
     "name": "stdout",
     "output_type": "stream",
     "text": [
      "<__main__.StructA object at 0x0000000004B9A640> \n",
      " b'\\x01\\x02\\x03\\x04\\x05' b'\\t\\n\\x0b\\x0c'\n",
      "<__main__.StructA object at 0x0000000004B9A140> \n",
      " b'\\x01\\x02\\x03\\x04\\x05' b'\\t\\n\\x0b\\x0c'\n",
      "==============================\n",
      "<__main__.StructA object at 0x0000000004B9A640> \n",
      " b'\\x0c\\x0b\\n\\t\\x08' b'\\x04\\x03\\x02\\x01'\n"
     ]
    }
   ],
   "source": [
    "#  c_char_p c_char_Array (bytes) => structure\n",
    "\n",
    "assert addressof(cbA) == cast(cbA,c_void_p).value\n",
    "a = StructA.from_address(cast(cbA,c_void_p).value)\n",
    "print(a,'\\n',a.string,(a.num).to_bytes(4,'little') )\n",
    "\n",
    "a = StructA.from_address(addressof(cbA))\n",
    "print(a,'\\n',a.string,(a.num).to_bytes(4,'little') )\n",
    "\n",
    "print( 30*'=')\n",
    "\n",
    "assert cast(cast(cbP,c_void_p).value,c_void_p).value == cast(cbP,c_void_p).value\n",
    "a = StructA.from_address(cast(cbP,c_void_p).value )\n",
    "print(a,'\\n',a.string,(a.num).to_bytes(4,'little') )\n"
   ]
  },
  {
   "cell_type": "code",
   "execution_count": 10,
   "id": "919a6d34",
   "metadata": {},
   "outputs": [
    {
     "name": "stdout",
     "output_type": "stream",
     "text": [
      "b'abc' 9999 abc\n",
      "b'abc' 9999 abc\n"
     ]
    }
   ],
   "source": [
    "byts = b'abc\\x00'b'efgh'+int.to_bytes(9999,4,'little')\n",
    "\n",
    "class myStruct(Structure):\n",
    "    _fields_ = (\"string_raw\", 6*c_char),(\"num\", c_int)\n",
    "        \n",
    "    @property\n",
    "    def string(self):\n",
    "        ad = addressof(self)+self.__class__.string_raw.offset\n",
    "        return string_at(ad).decode()        \n",
    "        \n",
    "\n",
    "\n",
    "b= create_string_buffer(byts,len(byts))\n",
    "a = myStruct.from_address(addressof( b ) )\n",
    "print( a.string_raw , a.num, a.string )\n",
    "\n",
    "a = myStruct.from_buffer_copy(byts)\n",
    "print( a.string_raw , a.num, a.string )\n"
   ]
  },
  {
   "cell_type": "code",
   "execution_count": 12,
   "id": "53248cbc",
   "metadata": {},
   "outputs": [
    {
     "name": "stdout",
     "output_type": "stream",
     "text": [
      "0\n",
      "b'abc' 9999 abc\n",
      "0\n",
      "b'abc' 9999 abc\n"
     ]
    }
   ],
   "source": [
    "byts = b'abc\\x00'b'efgh'+int.to_bytes(9999,4,'little')\n",
    "\n",
    "class myStruct(Structure):\n",
    "    _fields_ = (\"string_raw\", 6*c_char),(\"num\", c_int)\n",
    "        \n",
    "    def __getattr__(self,attr):\n",
    "        if attr == 'string':\n",
    "            ad = addressof(self)+self.__class__.string_raw.offset\n",
    "#             print(self.__class__.string_raw.offset)\n",
    "            return string_at(ad).decode()    \n",
    "        else:\n",
    "            return super().__getattribute__(attr)\n",
    "\n",
    "\n",
    "b= create_string_buffer(byts,len(byts))\n",
    "a = myStruct.from_address(addressof( b ) )\n",
    "print( a.string_raw , a.num, a.string )\n",
    "\n",
    "a = myStruct.from_buffer_copy(byts)\n",
    "print( a.string_raw , a.num, a.string )"
   ]
  }
 ],
 "metadata": {
  "kernelspec": {
   "display_name": "Python 3",
   "language": "python",
   "name": "python3"
  },
  "language_info": {
   "codemirror_mode": {
    "name": "ipython",
    "version": 3
   },
   "file_extension": ".py",
   "mimetype": "text/x-python",
   "name": "python",
   "nbconvert_exporter": "python",
   "pygments_lexer": "ipython3",
   "version": "3.8.8"
  },
  "toc-autonumbering": false,
  "toc-showcode": true,
  "toc-showmarkdowntxt": false
 },
 "nbformat": 4,
 "nbformat_minor": 5
}
