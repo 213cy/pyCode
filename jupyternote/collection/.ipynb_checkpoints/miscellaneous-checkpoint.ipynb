{
 "cells": [
  {
   "cell_type": "code",
   "execution_count": 1,
   "id": "cad9100c",
   "metadata": {},
   "outputs": [
    {
     "data": {
      "text/plain": [
       "'0002000'"
      ]
     },
     "execution_count": 1,
     "metadata": {},
     "output_type": "execute_result"
    }
   ],
   "source": [
    "# 比较字符串\n",
    "''.join( str(ord(k)-ord(j)) for k , j in zip( 'abcdefg','abcbefg' ) )"
   ]
  },
  {
   "cell_type": "code",
   "execution_count": 2,
   "id": "f28195f1",
   "metadata": {},
   "outputs": [
    {
     "name": "stdout",
     "output_type": "stream",
     "text": [
      "=========>dsf\n",
      "dsf\n"
     ]
    }
   ],
   "source": [
    "# 输入函数\n",
    "a=input('=========>')\n",
    "print(a)"
   ]
  }
 ],
 "metadata": {
  "kernelspec": {
   "display_name": "Python 3",
   "language": "python",
   "name": "python3"
  },
  "language_info": {
   "codemirror_mode": {
    "name": "ipython",
    "version": 3
   },
   "file_extension": ".py",
   "mimetype": "text/x-python",
   "name": "python",
   "nbconvert_exporter": "python",
   "pygments_lexer": "ipython3",
   "version": "3.8.8"
  }
 },
 "nbformat": 4,
 "nbformat_minor": 5
}
