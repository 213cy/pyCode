{
 "cells": [
  {
   "cell_type": "code",
   "execution_count": null,
   "id": "887a33c0",
   "metadata": {},
   "outputs": [],
   "source": [
    "import os\n",
    "for r,d,fs in os.walk('.'):\n",
    "    if \"spectrograms\" not in r:\n",
    "        print(r, d, len(fs))\n",
    "        for f in fs:\n",
    "            if not f.endswith(\".png\"):\n",
    "                print(f)"
   ]
  },
  {
   "cell_type": "code",
   "execution_count": null,
   "id": "04ed7e7c",
   "metadata": {},
   "outputs": [],
   "source": [
    "files = os.listdir(\".\")\n",
    "os.getpwd()"
   ]
  },
  {
   "cell_type": "code",
   "execution_count": null,
   "id": "da2458f5",
   "metadata": {},
   "outputs": [],
   "source": [
    "os.path.isfile(full_path)"
   ]
  },
  {
   "cell_type": "code",
   "execution_count": null,
   "id": "abbf099a",
   "metadata": {},
   "outputs": [],
   "source": [
    "import glob\n",
    "files = glob.glob(\"/path/to/folder/*\")"
   ]
  }
 ],
 "metadata": {
  "kernelspec": {
   "display_name": "Python 3",
   "language": "python",
   "name": "python3"
  },
  "language_info": {
   "codemirror_mode": {
    "name": "ipython",
    "version": 3
   },
   "file_extension": ".py",
   "mimetype": "text/x-python",
   "name": "python",
   "nbconvert_exporter": "python",
   "pygments_lexer": "ipython3",
   "version": "3.8.8"
  }
 },
 "nbformat": 4,
 "nbformat_minor": 5
}
