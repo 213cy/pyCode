{
 "cells": [
  {
   "cell_type": "code",
   "execution_count": 1,
   "id": "887a33c0",
   "metadata": {},
   "outputs": [
    {
     "name": "stdout",
     "output_type": "stream",
     "text": [
      ". ['.ipynb_checkpoints'] 15\n",
      "Built-in Classes and Functions.ipynb\n",
      "Built-in Exceptions.ipynb\n",
      "Built-in Functions and Types.ipynb\n",
      "Built-in general.ipynb\n",
      "bytes and ctypes.ipynb\n",
      "dict and set.ipynb\n",
      "fileenumerate.ipynb\n",
      "int bytes str.ipynb\n",
      "miscellaneous.ipynb\n",
      "python time.ipynb\n",
      "test environment.ipynb\n",
      "tips.ipynb\n",
      "unicode.ipynb\n",
      "Untitled.ipynb\n",
      "vars dir.ipynb\n",
      ".\\.ipynb_checkpoints [] 14\n",
      "Built-in Classes and Functions-checkpoint.ipynb\n",
      "Built-in Exceptions-checkpoint.ipynb\n",
      "Built-in Functions and Types-checkpoint.ipynb\n",
      "Built-in general-checkpoint.ipynb\n",
      "bytes and ctypes-checkpoint.ipynb\n",
      "dict and set-checkpoint.ipynb\n",
      "fileenumerate-checkpoint.ipynb\n",
      "int bytes str-checkpoint.ipynb\n",
      "miscellaneous-checkpoint.ipynb\n",
      "python time-checkpoint.ipynb\n",
      "tips-checkpoint.ipynb\n",
      "unicode-checkpoint.ipynb\n",
      "Untitled-checkpoint.ipynb\n",
      "vars dir-checkpoint.ipynb\n"
     ]
    }
   ],
   "source": [
    "import os\n",
    "for r,d,fs in os.walk('.'):\n",
    "    if \"spectrograms\" not in r:\n",
    "        print(r, d, len(fs))\n",
    "        for f in fs:\n",
    "            if not f.endswith(\".png\"):\n",
    "                print(f)"
   ]
  },
  {
   "cell_type": "code",
   "execution_count": null,
   "id": "04ed7e7c",
   "metadata": {},
   "outputs": [],
   "source": [
    "files = os.listdir(\".\")\n",
    "os.getpwd()"
   ]
  },
  {
   "cell_type": "code",
   "execution_count": null,
   "id": "da2458f5",
   "metadata": {},
   "outputs": [],
   "source": [
    "os.path.isfile(full_path)"
   ]
  },
  {
   "cell_type": "code",
   "execution_count": null,
   "id": "abbf099a",
   "metadata": {},
   "outputs": [],
   "source": [
    "import glob\n",
    "files = glob.glob(\"/path/to/folder/*\")"
   ]
  }
 ],
 "metadata": {
  "kernelspec": {
   "display_name": "Python 3 (ipykernel)",
   "language": "python",
   "name": "python3"
  },
  "language_info": {
   "codemirror_mode": {
    "name": "ipython",
    "version": 3
   },
   "file_extension": ".py",
   "mimetype": "text/x-python",
   "name": "python",
   "nbconvert_exporter": "python",
   "pygments_lexer": "ipython3",
   "version": "3.8.10"
  }
 },
 "nbformat": 4,
 "nbformat_minor": 5
}
