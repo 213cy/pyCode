{
 "cells": [
  {
   "cell_type": "code",
   "execution_count": 1,
   "id": "4c52b709",
   "metadata": {},
   "outputs": [],
   "source": [
    "# python Built-in Exceptions"
   ]
  },
  {
   "cell_type": "code",
   "execution_count": 2,
   "id": "3c6e2d57",
   "metadata": {
    "scrolled": true
   },
   "outputs": [
    {
     "name": "stdout",
     "output_type": "stream",
     "text": [
      "67 + 87 = 154\n",
      "67 67 67 True\n",
      "True\n"
     ]
    }
   ],
   "source": [
    "b=vars(__builtins__)\n",
    "c=list( filter(lambda k: hasattr( b[k] ,'__cause__'),b.keys() ) )\n",
    "# c=list( filter(lambda k: hasattr( b[k] ,'__cause__'),b ) )\n",
    "d =list( filter(lambda k: not hasattr(k, '__cause__'), b.values()) )\n",
    "# for k in filter(lambda k: not hasattr( b[k] ,'__cause__'),b.keys() ) : print(k,end='\\t')\n",
    "print(len(c) ,'+',len(d),'=', len(b) )\n",
    "\n",
    "cc=dict( filter(lambda x: hasattr( getattr(__builtins__,x[0]) ,'__cause__'),b.items()) )\n",
    "ccc = dict(  k for k in b.items() if hasattr( k[1] ,'__cause__' )  )\n",
    "print( len(c) , len(cc), len(ccc), set(cc) == set(c) )\n",
    "print(all ( map(lambda x: issubclass(x,BaseException), cc.values() ) ) )\n",
    "\n",
    "# for k in c : print('%-30s %s' % (k,getattr(__builtins__,k)) )\n",
    "# for k,v in cc.items() : print(f'{k:<30} {v}')\n",
    "# print('\\n'.join(c) )\n",
    "# print(c)\n"
   ]
  },
  {
   "cell_type": "code",
   "execution_count": 3,
   "id": "f67817f4",
   "metadata": {
    "scrolled": true
   },
   "outputs": [
    {
     "name": "stdout",
     "output_type": "stream",
     "text": [
      "[True, True]\n",
      "{'GeneratorExit', 'KeyboardInterrupt', 'StopAsyncIteration', 'Exception', 'BaseException', 'StopIteration', 'SystemExit'}\n",
      "11 + 49 + 7 =  67\n"
     ]
    }
   ],
   "source": [
    "c1 =  [ f for f in b if f.endswith('Warning')] \n",
    "# for k in c1 : print('%-30s %s' % (k,b[k]))\n",
    "c2 =  [ f for f in b if f.endswith('Error')] \n",
    "# for k in c2 : print('%-30s %s' % (k,b[k]))\n",
    "print( [set(cc).issuperset(set(c1)),set(cc).issuperset(set(c2))] )\n",
    "c3 = set(cc)-set(c1)-set(c2) \n",
    "print( c3 )\n",
    "print( len(c1),'+',len(c2) ,'+',len(c3),'= ',len(c))"
   ]
  },
  {
   "cell_type": "code",
   "execution_count": 9,
   "id": "d4c0547a",
   "metadata": {
    "scrolled": true
   },
   "outputs": [
    {
     "name": "stdout",
     "output_type": "stream",
     "text": [
      "{'with_traceback', '__traceback__', '__suppress_context__', '__context__', 'args', '__cause__', '__setstate__', '__dict__'}\n"
     ]
    }
   ],
   "source": [
    "attrs = set(dir(BaseException))\n",
    "# for k in filter(lambda x: hasattr(x, '__cause__'), b.values()): attrs &= set( dir(k))\n",
    "# for k in c : attrs &= set( dir( getattr(__builtins__,k)) )\n",
    "for k in cc.values() : attrs &= set( dir(k))\n",
    "\n",
    "print(attrs-set(vars(object)))"
   ]
  },
  {
   "cell_type": "code",
   "execution_count": 5,
   "id": "5788830d",
   "metadata": {},
   "outputs": [
    {
     "name": "stdout",
     "output_type": "stream",
     "text": [
      "Warning                       \tTrue\n",
      "UserWarning                   \tTrue\n",
      "DeprecationWarning            \tTrue\n",
      "PendingDeprecationWarning     \tTrue\n",
      "SyntaxWarning                 \tTrue\n",
      "RuntimeWarning                \tTrue\n",
      "FutureWarning                 \tTrue\n",
      "ImportWarning                 \tTrue\n",
      "UnicodeWarning                \tTrue\n",
      "BytesWarning                  \tTrue\n",
      "ResourceWarning               \tTrue\n"
     ]
    }
   ],
   "source": [
    "attrs = set(dir(Warning))\n",
    "for k in c1 : print( f'{k:<30}' , attrs == set( dir(b[k])), sep='\\t') "
   ]
  }
 ],
 "metadata": {
  "kernelspec": {
   "display_name": "Python 3",
   "language": "python",
   "name": "python3"
  },
  "language_info": {
   "codemirror_mode": {
    "name": "ipython",
    "version": 3
   },
   "file_extension": ".py",
   "mimetype": "text/x-python",
   "name": "python",
   "nbconvert_exporter": "python",
   "pygments_lexer": "ipython3",
   "version": "3.8.8"
  }
 },
 "nbformat": 4,
 "nbformat_minor": 5
}
