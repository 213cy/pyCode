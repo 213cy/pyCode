{
 "cells": [
  {
   "cell_type": "code",
   "execution_count": 4,
   "id": "cc9db3fd",
   "metadata": {},
   "outputs": [
    {
     "name": "stdout",
     "output_type": "stream",
     "text": [
      "C:\\Users\\Administrator\\Documents\\python\\jupyternote\\collection\n",
      "['.ipynb_checkpoints', 'Built-in Classes and Functions.ipynb', 'Built-in Exceptions.ipynb', 'Built-in Functions and Types.ipynb', 'Built-in general.ipynb', 'bytes and ctypes.ipynb', 'dict and set.ipynb', 'int bytes str.ipynb', 'miscellaneous.ipynb', 'python time.ipynb', 'test environment.ipynb', 'tips.ipynb', 'unicode.ipynb', 'Untitled.ipynb', 'vars dir.ipynb']\n"
     ]
    }
   ],
   "source": [
    "import os\n",
    "\n",
    "print(os.getcwd())\n",
    "print(os.listdir())"
   ]
  },
  {
   "cell_type": "code",
   "execution_count": 8,
   "id": "48d945ea",
   "metadata": {},
   "outputs": [
    {
     "name": "stdout",
     "output_type": "stream",
     "text": [
      "['..\\\\collection\\\\fileenumerate.ipynb']\n"
     ]
    }
   ],
   "source": [
    "import glob\n",
    "files = glob.glob(\"../*/*file*\")\n",
    "print(files)"
   ]
  },
  {
   "cell_type": "code",
   "execution_count": null,
   "id": "d4465c86",
   "metadata": {},
   "outputs": [],
   "source": [
    "# 以下未整理"
   ]
  },
  {
   "cell_type": "code",
   "execution_count": null,
   "id": "7001e2f5",
   "metadata": {},
   "outputs": [],
   "source": [
    "for r,d,fs in os.walk('.'):\n",
    "    if \"spectrograms\" not in r:\n",
    "        print(r, d, len(fs))\n",
    "        for f in fs:\n",
    "            if not f.endswith(\".png\"):\n",
    "                print(f)"
   ]
  },
  {
   "cell_type": "code",
   "execution_count": null,
   "id": "547a939e",
   "metadata": {},
   "outputs": [],
   "source": [
    "os.path.isfile(full_path)"
   ]
  },
  {
   "cell_type": "code",
   "execution_count": 9,
   "id": "c87dd6d7",
   "metadata": {},
   "outputs": [
    {
     "ename": "FileNotFoundError",
     "evalue": "[Errno 2] No such file or directory: 'data/FashionMNIST/raw/t10k-labels-idx1-ubyte'",
     "output_type": "error",
     "traceback": [
      "\u001b[1;31m---------------------------------------------------------------------------\u001b[0m",
      "\u001b[1;31mFileNotFoundError\u001b[0m                         Traceback (most recent call last)",
      "\u001b[1;32m<ipython-input-9-b081915354a7>\u001b[0m in \u001b[0;36m<module>\u001b[1;34m\u001b[0m\n\u001b[0;32m      1\u001b[0m \u001b[0mf\u001b[0m\u001b[1;33m=\u001b[0m\u001b[1;34m\"data/FashionMNIST/raw/t10k-labels-idx1-ubyte\"\u001b[0m\u001b[1;33m\u001b[0m\u001b[1;33m\u001b[0m\u001b[0m\n\u001b[1;32m----> 2\u001b[1;33m \u001b[0mfd\u001b[0m \u001b[1;33m=\u001b[0m \u001b[0mopen\u001b[0m\u001b[1;33m(\u001b[0m\u001b[0mf\u001b[0m\u001b[1;33m)\u001b[0m\u001b[1;33m\u001b[0m\u001b[1;33m\u001b[0m\u001b[0m\n\u001b[0m\u001b[0;32m      3\u001b[0m \u001b[0mprint\u001b[0m\u001b[1;33m(\u001b[0m\u001b[0mfd\u001b[0m\u001b[1;33m.\u001b[0m\u001b[0mreadline\u001b[0m\u001b[1;33m(\u001b[0m\u001b[1;33m)\u001b[0m\u001b[1;33m)\u001b[0m\u001b[1;33m\u001b[0m\u001b[1;33m\u001b[0m\u001b[0m\n\u001b[0;32m      4\u001b[0m \u001b[0mfd\u001b[0m\u001b[1;33m.\u001b[0m\u001b[0mclose\u001b[0m\u001b[1;33m(\u001b[0m\u001b[1;33m)\u001b[0m\u001b[1;33m\u001b[0m\u001b[1;33m\u001b[0m\u001b[0m\n\u001b[0;32m      5\u001b[0m \u001b[1;33m\u001b[0m\u001b[0m\n",
      "\u001b[1;31mFileNotFoundError\u001b[0m: [Errno 2] No such file or directory: 'data/FashionMNIST/raw/t10k-labels-idx1-ubyte'"
     ]
    }
   ],
   "source": [
    "f=\"data/FashionMNIST/raw/t10k-labels-idx1-ubyte\"\n",
    "fd = open(f)\n",
    "print(fd.readline())\n",
    "fd.close()\n",
    "\n",
    "# with open(f) as fd :\n",
    "#     print(fd.readline())"
   ]
  },
  {
   "cell_type": "code",
   "execution_count": 2,
   "id": "f7747c50",
   "metadata": {},
   "outputs": [
    {
     "name": "stdout",
     "output_type": "stream",
     "text": [
      " Volume in drive C has no label.\r\n",
      " Volume Serial Number is 9C3F-7B0C\r\n",
      "\r\n",
      " Directory of C:\\Users\\Administrator\\Documents\\python\\jupyternote\\collection\r\n",
      "\r\n",
      "2023/06/26  01:24    <DIR>          .\r\n",
      "2023/06/26  01:24    <DIR>          ..\r\n",
      "2023/06/26  01:13    <DIR>          .ipynb_checkpoints\r\n",
      "2023/01/09  18:00            14,059 Built-in Classes and Functions.ipynb\r\n",
      "2023/01/09  18:59             4,269 Built-in Exceptions.ipynb\r\n",
      "2023/01/09  22:28             5,927 Built-in Functions and Types.ipynb\r\n",
      "2023/01/09  18:56            11,140 Built-in general.ipynb\r\n",
      "2023/02/07  22:45            16,881 bytes and ctypes.ipynb\r\n",
      "2023/03/03  15:28             4,794 dict and set.ipynb\r\n",
      "2023/06/26  01:24             4,204 fileenumerate.ipynb\r\n",
      "2023/04/18  18:48             7,674 int bytes str.ipynb\r\n",
      "2022/12/30  20:01             2,214 miscellaneous.ipynb\r\n",
      "2022/02/27  12:23             6,337 python time.ipynb\r\n",
      "2022/01/23  22:00            28,926 test environment.ipynb\r\n",
      "2023/05/02  02:49             2,350 tips.ipynb\r\n",
      "2023/05/01  20:41             6,125 unicode.ipynb\r\n",
      "2023/06/26  01:12             1,398 Untitled.ipynb\r\n",
      "2022/11/15  00:35             3,279 vars dir.ipynb\r\n",
      "              15 File(s)        119,577 bytes\r\n",
      "               3 Dir(s)  79,241,707,520 bytes free\r\n",
      "\n"
     ]
    }
   ],
   "source": [
    "import subprocess\n",
    "a=subprocess.Popen('dir',shell=True, stdout=subprocess.PIPE)\n",
    "print(a.stdout.read().decode())"
   ]
  },
  {
   "cell_type": "code",
   "execution_count": 3,
   "id": "d9ed3685",
   "metadata": {},
   "outputs": [
    {
     "name": "stdout",
     "output_type": "stream",
     "text": [
      " Volume in drive C has no label.\n",
      " Volume Serial Number is 9C3F-7B0C\n",
      "\n",
      " Directory of C:\\Users\\Administrator\\Documents\\python\\jupyternote\\collection\n",
      "\n",
      "2023/06/26  01:24    <DIR>          .\n",
      "2023/06/26  01:24    <DIR>          ..\n",
      "2023/06/26  01:13    <DIR>          .ipynb_checkpoints\n",
      "2023/01/09  18:00            14,059 Built-in Classes and Functions.ipynb\n",
      "2023/01/09  18:59             4,269 Built-in Exceptions.ipynb\n",
      "2023/01/09  22:28             5,927 Built-in Functions and Types.ipynb\n",
      "2023/01/09  18:56            11,140 Built-in general.ipynb\n",
      "2023/02/07  22:45            16,881 bytes and ctypes.ipynb\n",
      "2023/03/03  15:28             4,794 dict and set.ipynb\n",
      "2023/06/26  01:24             4,204 fileenumerate.ipynb\n",
      "2023/04/18  18:48             7,674 int bytes str.ipynb\n",
      "2022/12/30  20:01             2,214 miscellaneous.ipynb\n",
      "2022/02/27  12:23             6,337 python time.ipynb\n",
      "2022/01/23  22:00            28,926 test environment.ipynb\n",
      "2023/05/02  02:49             2,350 tips.ipynb\n",
      "2023/05/01  20:41             6,125 unicode.ipynb\n",
      "2023/06/26  01:12             1,398 Untitled.ipynb\n",
      "2022/11/15  00:35             3,279 vars dir.ipynb\n",
      "              15 File(s)        119,577 bytes\n",
      "               3 Dir(s)  79,241,691,136 bytes free\n",
      "\n"
     ]
    }
   ],
   "source": [
    "import os\n",
    "a=os.popen('dir')\n",
    "print(a.read())"
   ]
  }
 ],
 "metadata": {
  "kernelspec": {
   "display_name": "Python 3",
   "language": "python",
   "name": "python3"
  },
  "language_info": {
   "codemirror_mode": {
    "name": "ipython",
    "version": 3
   },
   "file_extension": ".py",
   "mimetype": "text/x-python",
   "name": "python",
   "nbconvert_exporter": "python",
   "pygments_lexer": "ipython3",
   "version": "3.8.8"
  }
 },
 "nbformat": 4,
 "nbformat_minor": 5
}
