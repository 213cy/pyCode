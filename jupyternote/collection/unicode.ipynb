{
 "cells": [
  {
   "cell_type": "code",
   "execution_count": 1,
   "id": "10570fc5",
   "metadata": {},
   "outputs": [],
   "source": [
    "# unicode \n",
    "# int bytes bytearray\n",
    "# decode encode\n",
    "# format"
   ]
  },
  {
   "cell_type": "code",
   "execution_count": 2,
   "id": "8378b2fe",
   "metadata": {
    "scrolled": true
   },
   "outputs": [
    {
     "name": "stdout",
     "output_type": "stream",
     "text": [
      "汉字\n",
      "汉字 b'\\xe6\\xb1\\x89\\xe5\\xad\\x97' e6b189e5ad97\n",
      "\\u6c49\\u5b57 b'lI[W' 6c495b57\n",
      "b'lI[W'\n"
     ]
    }
   ],
   "source": [
    "a='汉字'\n",
    "aa = a.encode()\n",
    "print(aa.decode())\n",
    "print( a , aa , aa.hex())\n",
    "\n",
    "assert eval(ascii(a)) == a \n",
    "\n",
    "b = ascii(a).strip(\"'\")\n",
    "bb =''.join(b.split('\\\\u'))\n",
    "print( b , bytes.fromhex(bb) , bb)\n",
    "\n",
    "print( format(bytes.fromhex(bb) ))"
   ]
  },
  {
   "cell_type": "code",
   "execution_count": 3,
   "id": "7ae14783",
   "metadata": {},
   "outputs": [
    {
     "name": "stdout",
     "output_type": "stream",
     "text": [
      "character: \\u5b57\n",
      "5b57 23383\n",
      "b'W[' b'[W' False\n",
      "23383 23383\n"
     ]
    }
   ],
   "source": [
    "a='字'\n",
    "try:\n",
    "    a.encode('ascii')\n",
    "except UnicodeEncodeError as e:\n",
    "    print('character:' , str(e).split(\"'\")[-2])\n",
    "\n",
    "# print(e)\n",
    "b = ascii(a)[-5:-1]\n",
    "c = int(b,16)\n",
    "print(b,c)\n",
    "\n",
    "d = int.to_bytes(c, byteorder='little',length=2) \n",
    "d2 = bytes.fromhex(b)\n",
    "print( d, d2 , d == d2 )\n",
    "\n",
    "e = int.from_bytes(d, byteorder='little')\n",
    "e2 = int.from_bytes(d2, byteorder='big')\n",
    "print(e, e2)"
   ]
  },
  {
   "cell_type": "code",
   "execution_count": 4,
   "id": "1a1fea83",
   "metadata": {},
   "outputs": [
    {
     "name": "stdout",
     "output_type": "stream",
     "text": [
      "    0x5b57 00000000 01011011 01010111 ........ unicode character set(字符集)\n",
      "  0xe5ad97 11100101 10101101 10010111 ........ utf-8 encode(编码)\n",
      "utf-8 decode\n",
      "               0101   101101   010111 ........ utf-8 decode\n",
      "5b57 5b57\n",
      "23383 23383\n",
      "0101101101010111 0101101101010111\n",
      "==============================\n",
      "b'\\xe5\\xad\\x97' b'W['\n",
      "字 字 字\n"
     ]
    }
   ],
   "source": [
    "# unicode => hex str => int => unicode\n",
    "a='字'\n",
    "b = ascii(a)[-5:-1]\n",
    "b1,b0=int(b[0:2],16),int(b[2:],16)\n",
    "print(format('0x'+b, ' >10') ,format(0,'08b'),format(b1,'08b'),format(b0,'08b'),\n",
    "     8*'.', 'unicode character set(字符集)')\n",
    "bb = a.encode().hex()\n",
    "bb2,bb1,bb0 = int(bb[0:2],16),int(bb[2:4],16),int(bb[4:],16)\n",
    "print(format('0x'+bb,' >10') ,format(bb2,'8b'),format(bb1,'8b'),format(bb0,'8b'),\n",
    "     8*'.', 'utf-8 encode(编码)')\n",
    "\n",
    "print( 'utf-8 decode' )\n",
    "c2,c1,c0 = bin(bb2).split('0',2)[-1],bin(bb1).split('0',2)[-1],bin(bb0).split('0',2)[-1]\n",
    "print(format(' ','10') ,format(c2,' >8'),format(c1,' >8'),format(c0,' >8'),\n",
    "     8*'.', 'utf-8 decode')\n",
    "\n",
    "cbin = ''.join([c2,c1,c0])\n",
    "cint = int( cbin, 2 )\n",
    "chex = format(cint, 'x') # hex( cint )\n",
    "bhex = b #'0x'+ b\n",
    "bint = int( bhex, 16 )\n",
    "bbin = format(bint, '0>16b') #bin(bint)\n",
    "print(chex, bhex)\n",
    "print(cint ,bint)\n",
    "print(cbin, bbin)\n",
    "\n",
    "\n",
    "print(30*'=')\n",
    "cbytes = int.to_bytes(cint, byteorder='little',length=2) \n",
    "bbytes = a.encode()\n",
    "print( bbytes , cbytes )\n",
    "print( bbytes.decode() ,format(cint,'c'),eval('\"'+'\\\\u'+chex+'\"') )\n"
   ]
  },
  {
   "cell_type": "code",
   "execution_count": 5,
   "id": "7fd9d74d",
   "metadata": {},
   "outputs": [
    {
     "name": "stdout",
     "output_type": "stream",
     "text": [
      "bytearray(b'\\xe6\\xb1\\x89\\xe5\\xad\\x97') bytearray(b'lI[W')\n",
      "[230, 177, 137, 229, 173, 151] [108, 73, 91, 87]\n",
      "b'\\xe6\\xb1\\x89' bytearray(b'\\xe6\\xb1\\x89') bytearray(b'lI')\n",
      "01101100010010010101101101010111\n",
      "01101100010010010101101101010111\n",
      "27721 27721\n",
      "汉\n"
     ]
    }
   ],
   "source": [
    "# unicode => bytearray => int => unicode\n",
    "a='汉字'\n",
    "b = bytearray(a.encode())\n",
    "b2 = bytearray.fromhex(''.join(ascii(a).strip(\"'\").split('\\\\u')))\n",
    "print(b,b2)\n",
    "print(list(b),list(b2))\n",
    "\n",
    "print(a.encode()[:3],b[:3],b2[:2])\n",
    "\n",
    "fcn = lambda x: format(x,'b').split('0',1)[-1]\n",
    "print( ''.join(map(fcn,a.encode())))\n",
    "fcn2 = lambda x: format(x,'0>8b')\n",
    "print( ''.join(map(fcn2, b2) ))\n",
    "\n",
    "c=int(b2[:2].hex(),16)\n",
    "c2 = int.from_bytes(b2[:2], byteorder='big') \n",
    "print(c,c2)\n",
    "\n",
    "d = [c>>12 & 0x0f | 0xe0 ,c>>6 & 0x3f | 0x80 ,c & 0x3f | 0x80 ]\n",
    "print( bytes(d).decode() )"
   ]
  },
  {
   "cell_type": "code",
   "execution_count": 4,
   "id": "a088d5bd",
   "metadata": {},
   "outputs": [
    {
     "name": "stdout",
     "output_type": "stream",
     "text": [
      "%E6%B1%89%E5%AD%97\n",
      "e6-b1-89-e5-ad-97\n"
     ]
    }
   ],
   "source": [
    "hanzi = '汉字'\n",
    "import urllib\n",
    "print( urllib.parse.quote(hanzi) )\n",
    "\n",
    "import binascii\n",
    "temp = binascii.b2a_hex( hanzi.encode(),'-')\n",
    "temp = binascii.hexlify( hanzi.encode(),'-')\n",
    "print( temp.decode() )"
   ]
  }
 ],
 "metadata": {
  "kernelspec": {
   "display_name": "Python 3",
   "language": "python",
   "name": "python3"
  },
  "language_info": {
   "codemirror_mode": {
    "name": "ipython",
    "version": 3
   },
   "file_extension": ".py",
   "mimetype": "text/x-python",
   "name": "python",
   "nbconvert_exporter": "python",
   "pygments_lexer": "ipython3",
   "version": "3.8.8"
  }
 },
 "nbformat": 4,
 "nbformat_minor": 5
}
