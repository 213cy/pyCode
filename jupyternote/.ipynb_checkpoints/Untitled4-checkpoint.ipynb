{
 "cells": [
  {
   "cell_type": "code",
   "execution_count": 1,
   "id": "8418638e",
   "metadata": {},
   "outputs": [
    {
     "name": "stdout",
     "output_type": "stream",
     "text": [
      "<class 'mappingproxy'> <class 'mappingproxy'> <class 'dict'>\n",
      "<class 'list'>\n",
      "True True\n",
      "False\tTrue\n",
      "46 36\n",
      "{'__subclasshook__', '__dir__', '__class__', '__setattr__', '__init_subclass__', '__str__', '__format__', '__delattr__', '__reduce_ex__', '__reduce__'}\n",
      "set()\n"
     ]
    }
   ],
   "source": [
    "# dir and vars\n",
    "print( type(vars(object)), type(vars(list)), type( vars() ) )\n",
    "print( type( dir([])) ); # print( type(vars([])) )\n",
    "\n",
    "print( hasattr(object,'__dict__') , object.__dict__ == vars( object) )\n",
    "# print( dir(object).index('__dict__') )\n",
    "\n",
    "c = __builtins__\n",
    "print( list( vars(c).keys() ) == dir(c) , set( vars(c).keys() ) == set( dir(c) ),sep= '\\t' )\n",
    "locals() is vars()\n",
    "\n",
    "a=dir(list);b=list(vars(list).keys() )\n",
    "print(len(a),len(b))\n",
    "print( set(a)-set(b) )\n",
    "print( set(b)-set(a) )"
   ]
  }
 ],
 "metadata": {
  "kernelspec": {
   "display_name": "Python 3",
   "language": "python",
   "name": "python3"
  },
  "language_info": {
   "codemirror_mode": {
    "name": "ipython",
    "version": 3
   },
   "file_extension": ".py",
   "mimetype": "text/x-python",
   "name": "python",
   "nbconvert_exporter": "python",
   "pygments_lexer": "ipython3",
   "version": "3.8.8"
  }
 },
 "nbformat": 4,
 "nbformat_minor": 5
}
