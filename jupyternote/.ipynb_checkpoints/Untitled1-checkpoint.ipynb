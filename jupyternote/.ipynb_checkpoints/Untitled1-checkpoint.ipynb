{
 "cells": [
  {
   "cell_type": "code",
   "execution_count": null,
   "id": "021af49b",
   "metadata": {},
   "outputs": [],
   "source": [
    "# builtin 基本函数\n",
    "# dir vars set all hasattr filter\n",
    "# python Built-in Exceptions"
   ]
  },
  {
   "cell_type": "code",
   "execution_count": 20,
   "id": "eeadfd2e",
   "metadata": {
    "scrolled": false
   },
   "outputs": [
    {
     "name": "stdout",
     "output_type": "stream",
     "text": [
      "True\tFalse\tTrue\n",
      "False\tTrue\n"
     ]
    },
    {
     "data": {
      "text/plain": [
       "True"
      ]
     },
     "execution_count": 20,
     "metadata": {},
     "output_type": "execute_result"
    }
   ],
   "source": [
    "a=dir(__builtin__)\n",
    "b=dir(__builtins__)\n",
    "print( a==b , a is b , all([ k[0] is k[1]  for k in zip(a,b) ]),sep= '\\t' )"
   ]
  },
  {
   "cell_type": "code",
   "execution_count": null,
   "id": "267e29b0",
   "metadata": {},
   "outputs": [],
   "source": [
    "b=vars(__builtins__)\n",
    "c=list( filter(lambda k: hasattr( b[k] ,'__cause__'),b.keys() ) )\n",
    "d =list( filter(lambda k: not hasattr(k, '__cause__'), b.values()) )\n",
    "\n",
    "a=dir(__builtins__)\n",
    "cc=list( filter(lambda k: hasattr( getattr(__builtins__,k) ,'__cause__'),a) )\n",
    "print( len(cc) , len(c), set(cc) == set(c) )\n",
    "\n",
    "print(len(c) ,'+',len(d),'=', len(b) )"
   ]
  },
  {
   "cell_type": "code",
   "execution_count": 44,
   "id": "3c6e2d57",
   "metadata": {
    "scrolled": true
   },
   "outputs": [
    {
     "name": "stdout",
     "output_type": "stream",
     "text": [
      "67 67 True\n",
      "67 + 87 = 154\n",
      "['BaseException', 'Exception', 'TypeError', 'StopAsyncIteration', 'StopIteration', 'GeneratorExit', 'SystemExit', 'KeyboardInterrupt', 'ImportError', 'ModuleNotFoundError', 'OSError', 'EnvironmentError', 'IOError', 'WindowsError', 'EOFError', 'RuntimeError', 'RecursionError', 'NotImplementedError', 'NameError', 'UnboundLocalError', 'AttributeError', 'SyntaxError', 'IndentationError', 'TabError', 'LookupError', 'IndexError', 'KeyError', 'ValueError', 'UnicodeError', 'UnicodeEncodeError', 'UnicodeDecodeError', 'UnicodeTranslateError', 'AssertionError', 'ArithmeticError', 'FloatingPointError', 'OverflowError', 'ZeroDivisionError', 'SystemError', 'ReferenceError', 'MemoryError', 'BufferError', 'Warning', 'UserWarning', 'DeprecationWarning', 'PendingDeprecationWarning', 'SyntaxWarning', 'RuntimeWarning', 'FutureWarning', 'ImportWarning', 'UnicodeWarning', 'BytesWarning', 'ResourceWarning', 'ConnectionError', 'BlockingIOError', 'BrokenPipeError', 'ChildProcessError', 'ConnectionAbortedError', 'ConnectionRefusedError', 'ConnectionResetError', 'FileExistsError', 'FileNotFoundError', 'IsADirectoryError', 'NotADirectoryError', 'InterruptedError', 'PermissionError', 'ProcessLookupError', 'TimeoutError']\n",
      "__name__\t__doc__\t__package__\t__loader__\t__spec__\t__build_class__\t__import__\tabs\tall\tany\tascii\tbin\tbreakpoint\tcallable\tchr\tcompile\tdelattr\tdir\tdivmod\teval\texec\tformat\tgetattr\tglobals\thasattr\thash\thex\tid\tinput\tisinstance\tissubclass\titer\tlen\tlocals\tmax\tmin\tnext\toct\tord\tpow\tprint\trepr\tround\tsetattr\tsorted\tsum\tvars\tNone\tEllipsis\tNotImplemented\tFalse\tTrue\tbool\tmemoryview\tbytearray\tbytes\tclassmethod\tcomplex\tdict\tenumerate\tfilter\tfloat\tfrozenset\tproperty\tint\tlist\tmap\tobject\trange\treversed\tset\tslice\tstaticmethod\tstr\tsuper\ttuple\ttype\tzip\t__debug__\topen\tcopyright\tcredits\tlicense\thelp\t__IPYTHON__\tdisplay\tget_ipython\t"
     ]
    }
   ],
   "source": [
    "# for k in c : print('%-30s %s' % (k,str(getattr(__builtins__,k))) )\n",
    "# print('\\n'.join(c) )\n",
    "print(c)\n",
    "\n",
    "for k in filter(lambda k: not hasattr( b[k] ,'__cause__'),b.keys() ) : print(k,end='\\t')"
   ]
  },
  {
   "cell_type": "code",
   "execution_count": 34,
   "id": "ce5da8b4",
   "metadata": {},
   "outputs": [
    {
     "data": {
      "text/plain": [
       "dict_items([('__name__', 'builtins'), ('__doc__', \"Built-in functions, exceptions, and other objects.\\n\\nNoteworthy: None is the `nil' object; Ellipsis represents `...' in slices.\"), ('__package__', ''), ('__loader__', <class '_frozen_importlib.BuiltinImporter'>), ('__spec__', ModuleSpec(name='builtins', loader=<class '_frozen_importlib.BuiltinImporter'>)), ('__build_class__', <built-in function __build_class__>), ('__import__', <built-in function __import__>), ('abs', <built-in function abs>), ('all', <built-in function all>), ('any', <built-in function any>), ('ascii', <built-in function ascii>), ('bin', <built-in function bin>), ('breakpoint', <built-in function breakpoint>), ('callable', <built-in function callable>), ('chr', <built-in function chr>), ('compile', <built-in function compile>), ('delattr', <built-in function delattr>), ('dir', <built-in function dir>), ('divmod', <built-in function divmod>), ('eval', <built-in function eval>), ('exec', <built-in function exec>), ('format', <built-in function format>), ('getattr', <built-in function getattr>), ('globals', <built-in function globals>), ('hasattr', <built-in function hasattr>), ('hash', <built-in function hash>), ('hex', <built-in function hex>), ('id', <built-in function id>), ('input', <bound method Kernel.raw_input of <ipykernel.ipkernel.IPythonKernel object at 0x00000000048B8C70>>), ('isinstance', <built-in function isinstance>), ('issubclass', <built-in function issubclass>), ('iter', <built-in function iter>), ('len', <built-in function len>), ('locals', <built-in function locals>), ('max', <built-in function max>), ('min', <built-in function min>), ('next', <built-in function next>), ('oct', <built-in function oct>), ('ord', <built-in function ord>), ('pow', <built-in function pow>), ('print', <built-in function print>), ('repr', <built-in function repr>), ('round', <built-in function round>), ('setattr', <built-in function setattr>), ('sorted', <built-in function sorted>), ('sum', <built-in function sum>), ('vars', <built-in function vars>), ('None', None), ('Ellipsis', Ellipsis), ('NotImplemented', NotImplemented), ('False', False), ('True', True), ('bool', <class 'bool'>), ('memoryview', <class 'memoryview'>), ('bytearray', <class 'bytearray'>), ('bytes', <class 'bytes'>), ('classmethod', <class 'classmethod'>), ('complex', <class 'complex'>), ('dict', <class 'dict'>), ('enumerate', <class 'enumerate'>), ('filter', <class 'filter'>), ('float', <class 'float'>), ('frozenset', <class 'frozenset'>), ('property', <class 'property'>), ('int', <class 'int'>), ('list', <class 'list'>), ('map', <class 'map'>), ('object', <class 'object'>), ('range', <class 'range'>), ('reversed', <class 'reversed'>), ('set', <class 'set'>), ('slice', <class 'slice'>), ('staticmethod', <class 'staticmethod'>), ('str', <class 'str'>), ('super', <class 'super'>), ('tuple', <class 'tuple'>), ('type', <class 'type'>), ('zip', <class 'zip'>), ('__debug__', True), ('BaseException', <class 'BaseException'>), ('Exception', <class 'Exception'>), ('TypeError', <class 'TypeError'>), ('StopAsyncIteration', <class 'StopAsyncIteration'>), ('StopIteration', <class 'StopIteration'>), ('GeneratorExit', <class 'GeneratorExit'>), ('SystemExit', <class 'SystemExit'>), ('KeyboardInterrupt', <class 'KeyboardInterrupt'>), ('ImportError', <class 'ImportError'>), ('ModuleNotFoundError', <class 'ModuleNotFoundError'>), ('OSError', <class 'OSError'>), ('EnvironmentError', <class 'OSError'>), ('IOError', <class 'OSError'>), ('WindowsError', <class 'OSError'>), ('EOFError', <class 'EOFError'>), ('RuntimeError', <class 'RuntimeError'>), ('RecursionError', <class 'RecursionError'>), ('NotImplementedError', <class 'NotImplementedError'>), ('NameError', <class 'NameError'>), ('UnboundLocalError', <class 'UnboundLocalError'>), ('AttributeError', <class 'AttributeError'>), ('SyntaxError', <class 'SyntaxError'>), ('IndentationError', <class 'IndentationError'>), ('TabError', <class 'TabError'>), ('LookupError', <class 'LookupError'>), ('IndexError', <class 'IndexError'>), ('KeyError', <class 'KeyError'>), ('ValueError', <class 'ValueError'>), ('UnicodeError', <class 'UnicodeError'>), ('UnicodeEncodeError', <class 'UnicodeEncodeError'>), ('UnicodeDecodeError', <class 'UnicodeDecodeError'>), ('UnicodeTranslateError', <class 'UnicodeTranslateError'>), ('AssertionError', <class 'AssertionError'>), ('ArithmeticError', <class 'ArithmeticError'>), ('FloatingPointError', <class 'FloatingPointError'>), ('OverflowError', <class 'OverflowError'>), ('ZeroDivisionError', <class 'ZeroDivisionError'>), ('SystemError', <class 'SystemError'>), ('ReferenceError', <class 'ReferenceError'>), ('MemoryError', <class 'MemoryError'>), ('BufferError', <class 'BufferError'>), ('Warning', <class 'Warning'>), ('UserWarning', <class 'UserWarning'>), ('DeprecationWarning', <class 'DeprecationWarning'>), ('PendingDeprecationWarning', <class 'PendingDeprecationWarning'>), ('SyntaxWarning', <class 'SyntaxWarning'>), ('RuntimeWarning', <class 'RuntimeWarning'>), ('FutureWarning', <class 'FutureWarning'>), ('ImportWarning', <class 'ImportWarning'>), ('UnicodeWarning', <class 'UnicodeWarning'>), ('BytesWarning', <class 'BytesWarning'>), ('ResourceWarning', <class 'ResourceWarning'>), ('ConnectionError', <class 'ConnectionError'>), ('BlockingIOError', <class 'BlockingIOError'>), ('BrokenPipeError', <class 'BrokenPipeError'>), ('ChildProcessError', <class 'ChildProcessError'>), ('ConnectionAbortedError', <class 'ConnectionAbortedError'>), ('ConnectionRefusedError', <class 'ConnectionRefusedError'>), ('ConnectionResetError', <class 'ConnectionResetError'>), ('FileExistsError', <class 'FileExistsError'>), ('FileNotFoundError', <class 'FileNotFoundError'>), ('IsADirectoryError', <class 'IsADirectoryError'>), ('NotADirectoryError', <class 'NotADirectoryError'>), ('InterruptedError', <class 'InterruptedError'>), ('PermissionError', <class 'PermissionError'>), ('ProcessLookupError', <class 'ProcessLookupError'>), ('TimeoutError', <class 'TimeoutError'>), ('open', <built-in function open>), ('copyright', Copyright (c) 2001-2021 Python Software Foundation.\n",
       "All Rights Reserved.\n",
       "\n",
       "Copyright (c) 2000 BeOpen.com.\n",
       "All Rights Reserved.\n",
       "\n",
       "Copyright (c) 1995-2001 Corporation for National Research Initiatives.\n",
       "All Rights Reserved.\n",
       "\n",
       "Copyright (c) 1991-1995 Stichting Mathematisch Centrum, Amsterdam.\n",
       "All Rights Reserved.), ('credits',     Thanks to CWI, CNRI, BeOpen.com, Zope Corporation and a cast of thousands\n",
       "    for supporting Python development.  See www.python.org for more information.), ('license', See https://www.python.org/psf/license/), ('help', Type help() for interactive help, or help(object) for help about object.), ('__IPYTHON__', True), ('display', <function display at 0x0000000002A47820>), ('get_ipython', <bound method InteractiveShell.get_ipython of <ipykernel.zmqshell.ZMQInteractiveShell object at 0x00000000048B8CD0>>)])"
      ]
     },
     "execution_count": 34,
     "metadata": {},
     "output_type": "execute_result"
    }
   ],
   "source": [
    "b.items()"
   ]
  },
  {
   "cell_type": "code",
   "execution_count": 4,
   "id": "f67817f4",
   "metadata": {
    "scrolled": true
   },
   "outputs": [
    {
     "name": "stdout",
     "output_type": "stream",
     "text": [
      "[True, True]\n",
      "{'StopIteration', 'SystemExit', 'GeneratorExit', 'KeyboardInterrupt', 'Exception', 'BaseException', 'StopAsyncIteration'}\n",
      "11 + 49 + 7 =  67\n"
     ]
    }
   ],
   "source": [
    "c1 =  [ f for f,g in b.items() if f.endswith('Warning')] \n",
    "# for k in c1 : print('%-30s %s' % (k,b[k]))\n",
    "c2 =  [ f[0] for f in b.items() if f[0].endswith('Error')] \n",
    "# for k in c2 : print('%-30s %s' % (k,b[k]))\n",
    "print( [set(cc).issuperset(set(c1)),set(cc).issuperset(set(c2))] )\n",
    "c3 = set(cc)-set(c1)-set(c2) \n",
    "print( c3 )\n",
    "print( len(c1),'+',len(c2) ,'+',len(c3),'= ',len(c))"
   ]
  },
  {
   "cell_type": "code",
   "execution_count": 43,
   "id": "9a8062ea",
   "metadata": {
    "scrolled": true
   },
   "outputs": [
    {
     "name": "stdout",
     "output_type": "stream",
     "text": [
      "__name__\t__doc__\t__package__\t__loader__\t__spec__\t__build_class__\t__import__\tabs\tall\tany\tascii\tbin\tbreakpoint\tcallable\tchr\tcompile\tdelattr\tdir\tdivmod\teval\texec\tformat\tgetattr\tglobals\thasattr\thash\thex\tid\tinput\tisinstance\tissubclass\titer\tlen\tlocals\tmax\tmin\tnext\toct\tord\tpow\tprint\trepr\tround\tsetattr\tsorted\tsum\tvars\tNone\tEllipsis\tNotImplemented\tFalse\tTrue\tbool\tmemoryview\tbytearray\tbytes\tclassmethod\tcomplex\tdict\tenumerate\tfilter\tfloat\tfrozenset\tproperty\tint\tlist\tmap\tobject\trange\treversed\tset\tslice\tstaticmethod\tstr\tsuper\ttuple\ttype\tzip\t__debug__\topen\tcopyright\tcredits\tlicense\thelp\t__IPYTHON__\tdisplay\tget_ipython\t87\n"
     ]
    }
   ],
   "source": [
    "for k in filter(lambda k: not hasattr( b[k] ,'__cause__'),b.keys() ) : print(k,end='\\t')\n",
    "print( len( set( k for k in filter(lambda k: not hasattr( b[k] ,'__cause__'),b.keys() ) ) ) )"
   ]
  },
  {
   "cell_type": "code",
   "execution_count": 37,
   "id": "cda9d409",
   "metadata": {
    "scrolled": false
   },
   "outputs": [
    {
     "name": "stdout",
     "output_type": "stream",
     "text": [
      "__name__                       ---------builtins\n",
      "__doc__                        ---------Built-in functions, exceptions, and other objects.\n",
      "\n",
      "Noteworthy: None is the `nil' object; Ellipsis represents `...' in slices.\n",
      "__package__                    ---------\n",
      "=======================================================\n",
      "__name__                       ---------builtins\n",
      "__doc__                        ---------Built-in functions, exceptions, and other objects.\n",
      "\n",
      "Noteworthy: None is the `nil' object; Ellipsis represents `...' in slices.\n",
      "__package__                    ---------\n",
      "=======================================================\n",
      "3 3 True\n"
     ]
    }
   ],
   "source": [
    "def m(k):\n",
    "    if hasattr( k[1] ,'__cause__' ):\n",
    "        return False\n",
    "    if  isinstance(k[1],str): # type(k[1])==type('sdf'):\n",
    "        print('%-30s ---------%s' % k)\n",
    "        return True\n",
    "    return False\n",
    "d= dict( filter(m,b.items()) )\n",
    "print(55*'=')\n",
    "c = {a:b for a,b in b.items() if m((a,b))}\n",
    "print(55*'=')\n",
    "print(len(d),len(c) , d == c)"
   ]
  }
 ],
 "metadata": {
  "kernelspec": {
   "display_name": "Python 3",
   "language": "python",
   "name": "python3"
  },
  "language_info": {
   "codemirror_mode": {
    "name": "ipython",
    "version": 3
   },
   "file_extension": ".py",
   "mimetype": "text/x-python",
   "name": "python",
   "nbconvert_exporter": "python",
   "pygments_lexer": "ipython3",
   "version": "3.8.8"
  }
 },
 "nbformat": 4,
 "nbformat_minor": 5
}
