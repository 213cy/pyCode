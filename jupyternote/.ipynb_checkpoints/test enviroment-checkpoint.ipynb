{
 "cells": [
  {
   "cell_type": "code",
   "execution_count": 10,
   "id": "a6b5861b-5982-4dd3-b34b-332379652715",
   "metadata": {
    "scrolled": true
   },
   "outputs": [
    {
     "name": "stdout",
     "output_type": "stream",
     "text": [
      "[-10, -9, -8, -7, -6, -5, -4, -3, -2, -1, 0, 1, 2, 3, 4, 5, 6, 7, 8, 9] \n",
      " [-4, -3, -3, -3, -2, -2, -2, -1, -1, -1, 0, 0, 0, 1, 1, 1, 2, 2, 2, 3] \n",
      " [2, 0, 1, 2, 0, 1, 2, 0, 1, 2, 0, 1, 2, 0, 1, 2, 0, 1, 2, 0]\n",
      "tensor([-4, -3, -3, -3, -2, -2, -2, -1, -1, -1,  0,  0,  0,  1,  1,  1,  2,  2,\n",
      "         2,  3])\n",
      "[2 0 1 2 0 1 2 0 1 2 0 1 2 0 1 2 0 1 2 0] <class 'numpy.ndarray'>\n"
     ]
    },
    {
     "data": {
      "text/plain": [
       "[<matplotlib.lines.Line2D at 0xb0fb910>]"
      ]
     },
     "execution_count": 10,
     "metadata": {},
     "output_type": "execute_result"
    },
    {
     "data": {
      "image/png": "[encoded data removed]",
      "text/plain": [
       "<Figure size 432x288 with 1 Axes>"
      ]
     },
     "metadata": {
      "needs_background": "light"
     },
     "output_type": "display_data"
    }
   ],
   "source": [
    "import numpy \n",
    "import torch\n",
    "# import matplotlib as mpl\n",
    "import matplotlib.pyplot as plt\n",
    "# %matplotlib inline\n",
    "x = list(range(-10,10))\n",
    "y1 = [i//3 for i in x]\n",
    "y2 = [i%3 for i in x]\n",
    "print(x,'\\n',y1,'\\n',y2)\n",
    "#print(\"x=%s\", x)\n",
    "\n",
    "z1 = torch.tensor(y1)\n",
    "z2 = numpy.array(y2)\n",
    "print(z1)\n",
    "print(z2)\n",
    "\n",
    "plt.plot(x,x)\n",
    "plt.plot(x,z1)\n",
    "plt.plot(x,z2)\n",
    "\n",
    "#plt.show()"
   ]
  },
  {
   "cell_type": "code",
   "execution_count": 33,
   "id": "fdc36a03",
   "metadata": {},
   "outputs": [
    {
     "name": "stdout",
     "output_type": "stream",
     "text": [
      "3.8.8 (default, Apr 13 2021, 15:08:03) [MSC v.1916 64 bit (AMD64)]\n",
      "==================================================\n",
      "C:\\Users\\Administrator\\Documents\\python\\jupyternote\n",
      "D:\\anaconda3\\python38.zip\n",
      "D:\\anaconda3\\DLLs\n",
      "D:\\anaconda3\\lib\n",
      "D:\\anaconda3\n",
      "\n",
      "D:\\anaconda3\\lib\\site-packages\n",
      "D:\\anaconda3\\lib\\site-packages\\locket-0.2.1-py3.8.egg\n",
      "D:\\anaconda3\\lib\\site-packages\\win32\n",
      "D:\\anaconda3\\lib\\site-packages\\win32\\lib\n",
      "D:\\anaconda3\\lib\\site-packages\\Pythonwin\n",
      "D:\\anaconda3\\lib\\site-packages\\IPython\\extensions\n",
      "C:\\Users\\Administrator\\.ipython\n"
     ]
    }
   ],
   "source": [
    "import sys\n",
    "print( sys.version )\n",
    "print( 50*'=')\n",
    "for k in sys.path : print( k )"
   ]
  },
  {
   "cell_type": "code",
   "execution_count": 30,
   "id": "8d29b549",
   "metadata": {},
   "outputs": [
    {
     "name": "stdout",
     "output_type": "stream",
     "text": [
      "C:\\Users\\Administrator\\Documents\\python\\jupyternote\n",
      "==================================================\n",
      "D:\\Anaconda3\n",
      "==================================================\n",
      "D:\\Anaconda3\n",
      "D:\\Anaconda3\\Library\\mingw-w64\\bin\n",
      "D:\\Anaconda3\\Library\\usr\\bin\n",
      "D:\\Anaconda3\\Library\\bin\n",
      "D:\\Anaconda3\\Scripts\n",
      "D:\\Python\\Python38\\Scripts\\\n",
      "D:\\Python\\Python38\\\n",
      "C:\\Windows\\system32\n",
      "C:\\Windows\n",
      "C:\\Windows\\System32\\Wbem\n",
      "C:\\Windows\\System32\\WindowsPowerShell\\v1.0\\\n",
      "C:\\Program Files (x86)\\Intel\\OpenCL SDK\\2.0\\bin\\x86\n",
      "D:\\MATLAB\\R2017b\\bin\\win64\n",
      "D:\\mingw64\\bin\n",
      "C:\\Program Files\\Git\\cmd\n",
      "E:\\Program Files\\Fiddler\n"
     ]
    }
   ],
   "source": [
    "import os\n",
    "print( os.getcwd() )\n",
    "print( 50*'=')\n",
    "print( os.environ['CONDA_PREFIX'] )\n",
    "print( 50*'=')\n",
    "print( os.environ['path'].replace(';','\\n') )"
   ]
  },
  {
   "cell_type": "code",
   "execution_count": 32,
   "id": "79b5824d",
   "metadata": {
    "scrolled": false
   },
   "outputs": [],
   "source": [
    "import os\n",
    "a=r'''D:\\Anaconda3\n",
    "D:\\Anaconda3\\Library\\mingw-w64\\bin\n",
    "D:\\Anaconda3\\Library\\usr\\bin\n",
    "D:\\Anaconda3\\Library\\bin\n",
    "D:\\Anaconda3\\Scripts\n",
    "'''\n",
    "if False :\n",
    "    os.environ['path']=a.replace('\\n' ,os.path.pathsep )\n",
    "    print('aaaaaaaaaaaa')"
   ]
  },
  {
   "cell_type": "code",
   "execution_count": 4,
   "id": "c21cda94",
   "metadata": {},
   "outputs": [
    {
     "data": {
      "text/plain": [
       "environ{'ALLUSERSPROFILE': 'C:\\\\ProgramData',\n",
       "        'APPDATA': 'C:\\\\Users\\\\Administrator\\\\AppData\\\\Roaming',\n",
       "        'COMMONPROGRAMFILES': 'C:\\\\Program Files\\\\Common Files',\n",
       "        'COMMONPROGRAMFILES(X86)': 'C:\\\\Program Files (x86)\\\\Common Files',\n",
       "        'COMMONPROGRAMW6432': 'C:\\\\Program Files\\\\Common Files',\n",
       "        'COMPUTERNAME': 'NEW-PC',\n",
       "        'COMSPEC': 'C:\\\\Windows\\\\system32\\\\cmd.exe',\n",
       "        'FP_NO_HOST_CHECK': 'NO',\n",
       "        'HOMEDRIVE': 'C:',\n",
       "        'HOMEPATH': '\\\\Users\\\\Administrator',\n",
       "        'LOCALAPPDATA': 'C:\\\\Users\\\\Administrator\\\\AppData\\\\Local',\n",
       "        'LOGONSERVER': '\\\\\\\\NEW-PC',\n",
       "        'NUMBER_OF_PROCESSORS': '2',\n",
       "        'OS': 'Windows_NT',\n",
       "        'PATH': 'D:\\\\Anaconda3;D:\\\\Anaconda3\\\\Library\\\\mingw-w64\\\\bin;D:\\\\Anaconda3\\\\Library\\\\usr\\\\bin;D:\\\\Anaconda3\\\\Library\\\\bin;D:\\\\Anaconda3\\\\Scripts;D:\\\\Python\\\\Python38\\\\Scripts\\\\;D:\\\\Python\\\\Python38\\\\;C:\\\\Windows\\\\system32;C:\\\\Windows;C:\\\\Windows\\\\System32\\\\Wbem;C:\\\\Windows\\\\System32\\\\WindowsPowerShell\\\\v1.0\\\\;C:\\\\Program Files (x86)\\\\Intel\\\\OpenCL SDK\\\\2.0\\\\bin\\\\x86;D:\\\\MATLAB\\\\R2017b\\\\bin\\\\win64;D:\\\\mingw64\\\\bin;C:\\\\Program Files\\\\Git\\\\cmd;E:\\\\Program Files\\\\Fiddler',\n",
       "        'PATHEXT': '.COM;.EXE;.BAT;.CMD;.VBS;.VBE;.JS;.JSE;.WSF;.WSH;.MSC;.PY;.PYW',\n",
       "        'PROCESSOR_ARCHITECTURE': 'AMD64',\n",
       "        'PROCESSOR_IDENTIFIER': 'Intel64 Family 6 Model 58 Stepping 9, GenuineIntel',\n",
       "        'PROCESSOR_LEVEL': '6',\n",
       "        'PROCESSOR_REVISION': '3a09',\n",
       "        'PROGRAMDATA': 'C:\\\\ProgramData',\n",
       "        'PROGRAMFILES': 'C:\\\\Program Files',\n",
       "        'PROGRAMFILES(X86)': 'C:\\\\Program Files (x86)',\n",
       "        'PROGRAMW6432': 'C:\\\\Program Files',\n",
       "        'PSMODULEPATH': 'C:\\\\Windows\\\\system32\\\\WindowsPowerShell\\\\v1.0\\\\Modules\\\\',\n",
       "        'PUBLIC': 'C:\\\\Users\\\\Public',\n",
       "        'SDL_AUDIODRIVER': 'directsound',\n",
       "        'SESSIONNAME': 'Console',\n",
       "        'SYSTEMDRIVE': 'C:',\n",
       "        'SYSTEMROOT': 'C:\\\\Windows',\n",
       "        'TEMP': 'C:\\\\Users\\\\ADMINI~1\\\\AppData\\\\Local\\\\Temp',\n",
       "        'TMP': 'C:\\\\Users\\\\ADMINI~1\\\\AppData\\\\Local\\\\Temp',\n",
       "        'USERDOMAIN': 'NEW-PC',\n",
       "        'USERNAME': 'morlet',\n",
       "        'USERPROFILE': 'C:\\\\Users\\\\Administrator',\n",
       "        'WINDIR': 'C:\\\\Windows',\n",
       "        '_NT_SYMBOL_PATH': 'C:\\\\Symbols',\n",
       "        'CONDA_PREFIX': 'D:\\\\Anaconda3',\n",
       "        'JPY_INTERRUPT_EVENT': '1588',\n",
       "        'IPY_INTERRUPT_EVENT': '1588',\n",
       "        'JPY_PARENT_PID': '1620',\n",
       "        'TERM': 'xterm-color',\n",
       "        'CLICOLOR': '1',\n",
       "        'PAGER': 'cat',\n",
       "        'GIT_PAGER': 'cat',\n",
       "        'MPLBACKEND': 'module://ipykernel.pylab.backend_inline'}"
      ]
     },
     "execution_count": 4,
     "metadata": {},
     "output_type": "execute_result"
    }
   ],
   "source": [
    "import os\n",
    "os.environ\n"
   ]
  }
 ],
 "metadata": {
  "kernelspec": {
   "display_name": "Python 3",
   "language": "python",
   "name": "python3"
  },
  "language_info": {
   "codemirror_mode": {
    "name": "ipython",
    "version": 3
   },
   "file_extension": ".py",
   "mimetype": "text/x-python",
   "name": "python",
   "nbconvert_exporter": "python",
   "pygments_lexer": "ipython3",
   "version": "3.8.8"
  },
  "toc-autonumbering": false,
  "toc-showcode": true,
  "toc-showmarkdowntxt": false
 },
 "nbformat": 4,
 "nbformat_minor": 5
}
