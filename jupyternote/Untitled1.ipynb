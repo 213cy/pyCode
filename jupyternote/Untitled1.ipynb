{
 "cells": [
  {
   "cell_type": "markdown",
   "id": "70aad527-99a2-46da-ab04-3f241bfa349a",
   "metadata": {},
   "source": [
    "dfasdf\n",
    "sdfsdf\n",
    "\n",
    "---\n",
    "\n"
   ]
  },
  {
   "cell_type": "markdown",
   "id": "8bacbfae-9b4a-4b40-9664-edd347a5fbf4",
   "metadata": {},
   "source": [
    "====\n",
    "ghg"
   ]
  },
  {
   "cell_type": "code",
   "execution_count": null,
   "id": "7cee5928-a740-460b-8539-faa81d660e75",
   "metadata": {},
   "outputs": [],
   "source": []
  },
  {
   "cell_type": "markdown",
   "id": "f106da12-7c9c-4e12-b39a-a37ef8e7fe4e",
   "metadata": {},
   "source": [
    "fgjhhg"
   ]
  }
 ],
 "metadata": {
  "kernelspec": {
   "display_name": "",
   "name": ""
  },
  "language_info": {
   "name": ""
  }
 },
 "nbformat": 4,
 "nbformat_minor": 5
}
